{
 "cells": [
  {
   "cell_type": "code",
   "execution_count": 1,
   "metadata": {
    "id": "Dl_ABdHk25kP"
   },
   "outputs": [],
   "source": [
    "import pandas as pd\n",
    "import seaborn as sb\n",
    "import matplotlib.pyplot as plt\n",
    "import numpy as np"
   ]
  },
  {
   "cell_type": "code",
   "execution_count": 2,
   "metadata": {
    "id": "2bXYCNCT3mOc"
   },
   "outputs": [],
   "source": [
    "from sklearn.model_selection import train_test_split\n",
    "from sklearn.preprocessing import MinMaxScaler\n",
    "from sklearn.metrics import mean_squared_error"
   ]
  },
  {
   "cell_type": "code",
   "execution_count": 3,
   "metadata": {
    "id": "uBl_OYKSDSJ9"
   },
   "outputs": [],
   "source": [
    "from sklearn.linear_model import  LinearRegression,Ridge,Lasso\n",
    "from sklearn.tree import DecisionTreeRegressor"
   ]
  },
  {
   "cell_type": "code",
   "execution_count": 6,
   "metadata": {
    "id": "Cgky6bHK3vO6"
   },
   "outputs": [],
   "source": [
    "from keras.models import Sequential\n",
    "from keras.layers import Dense, LSTM, Dropout, GRU, Bidirectional\n",
    "from tensorflow.keras.optimizers import SGD,Adam"
   ]
  },
  {
   "cell_type": "code",
   "execution_count": 5,
   "metadata": {
    "id": "HMhV-6sX5D24"
   },
   "outputs": [],
   "source": [
    "data=pd.read_csv(\"D://project//bource/best_data.csv\")"
   ]
  },
  {
   "cell_type": "code",
   "execution_count": null,
   "metadata": {
    "colab": {
     "base_uri": "https://localhost:8080/",
     "height": 206
    },
    "id": "WcQVGGE7-cog",
    "outputId": "9dea0939-46fe-4e30-c678-50204e0d65b9"
   },
   "outputs": [],
   "source": [
    "data.head()"
   ]
  },
  {
   "cell_type": "code",
   "execution_count": 6,
   "metadata": {
    "colab": {
     "base_uri": "https://localhost:8080/",
     "height": 363
    },
    "id": "PvLKalqX-csK",
    "outputId": "25931e8f-3edf-47fa-c688-0a73d57ef2b7"
   },
   "outputs": [
    {
     "data": {
      "text/html": [
       "<div>\n",
       "<style scoped>\n",
       "    .dataframe tbody tr th:only-of-type {\n",
       "        vertical-align: middle;\n",
       "    }\n",
       "\n",
       "    .dataframe tbody tr th {\n",
       "        vertical-align: top;\n",
       "    }\n",
       "\n",
       "    .dataframe thead th {\n",
       "        text-align: right;\n",
       "    }\n",
       "</style>\n",
       "<table border=\"1\" class=\"dataframe\">\n",
       "  <thead>\n",
       "    <tr style=\"text-align: right;\">\n",
       "      <th></th>\n",
       "      <th>Ticker</th>\n",
       "      <th>Per</th>\n",
       "      <th>DTYYYYMMDD</th>\n",
       "      <th>TIME</th>\n",
       "      <th>Open</th>\n",
       "      <th>High</th>\n",
       "      <th>Low</th>\n",
       "      <th>Close</th>\n",
       "      <th>Vol</th>\n",
       "      <th>Openint</th>\n",
       "    </tr>\n",
       "  </thead>\n",
       "  <tbody>\n",
       "    <tr>\n",
       "      <th>0</th>\n",
       "      <td>ABFAR_Share</td>\n",
       "      <td>d</td>\n",
       "      <td>20060227</td>\n",
       "      <td>0</td>\n",
       "      <td>867.65</td>\n",
       "      <td>867.65</td>\n",
       "      <td>867.65</td>\n",
       "      <td>867.65</td>\n",
       "      <td>100</td>\n",
       "      <td>1000</td>\n",
       "    </tr>\n",
       "    <tr>\n",
       "      <th>1</th>\n",
       "      <td>ABFAR_Share</td>\n",
       "      <td>d</td>\n",
       "      <td>20060228</td>\n",
       "      <td>0</td>\n",
       "      <td>867.65</td>\n",
       "      <td>885.00</td>\n",
       "      <td>850.29</td>\n",
       "      <td>864.18</td>\n",
       "      <td>5710</td>\n",
       "      <td>996</td>\n",
       "    </tr>\n",
       "    <tr>\n",
       "      <th>2</th>\n",
       "      <td>ABFAR_Share</td>\n",
       "      <td>d</td>\n",
       "      <td>20060430</td>\n",
       "      <td>0</td>\n",
       "      <td>847.69</td>\n",
       "      <td>847.69</td>\n",
       "      <td>847.69</td>\n",
       "      <td>847.69</td>\n",
       "      <td>13500</td>\n",
       "      <td>977</td>\n",
       "    </tr>\n",
       "    <tr>\n",
       "      <th>3</th>\n",
       "      <td>ABFAR_Share</td>\n",
       "      <td>d</td>\n",
       "      <td>20060501</td>\n",
       "      <td>0</td>\n",
       "      <td>831.21</td>\n",
       "      <td>831.21</td>\n",
       "      <td>831.21</td>\n",
       "      <td>831.21</td>\n",
       "      <td>13500</td>\n",
       "      <td>958</td>\n",
       "    </tr>\n",
       "    <tr>\n",
       "      <th>4</th>\n",
       "      <td>ABFAR_Share</td>\n",
       "      <td>d</td>\n",
       "      <td>20060502</td>\n",
       "      <td>0</td>\n",
       "      <td>814.72</td>\n",
       "      <td>814.72</td>\n",
       "      <td>814.72</td>\n",
       "      <td>814.72</td>\n",
       "      <td>13500</td>\n",
       "      <td>939</td>\n",
       "    </tr>\n",
       "    <tr>\n",
       "      <th>5</th>\n",
       "      <td>ABFAR_Share</td>\n",
       "      <td>d</td>\n",
       "      <td>20060506</td>\n",
       "      <td>0</td>\n",
       "      <td>799.10</td>\n",
       "      <td>799.10</td>\n",
       "      <td>799.10</td>\n",
       "      <td>799.10</td>\n",
       "      <td>50000</td>\n",
       "      <td>921</td>\n",
       "    </tr>\n",
       "    <tr>\n",
       "      <th>6</th>\n",
       "      <td>ABFAR_Share</td>\n",
       "      <td>d</td>\n",
       "      <td>20060507</td>\n",
       "      <td>0</td>\n",
       "      <td>783.49</td>\n",
       "      <td>783.49</td>\n",
       "      <td>783.49</td>\n",
       "      <td>783.49</td>\n",
       "      <td>60000</td>\n",
       "      <td>903</td>\n",
       "    </tr>\n",
       "    <tr>\n",
       "      <th>7</th>\n",
       "      <td>ABFAR_Share</td>\n",
       "      <td>d</td>\n",
       "      <td>20060508</td>\n",
       "      <td>0</td>\n",
       "      <td>767.87</td>\n",
       "      <td>799.10</td>\n",
       "      <td>767.87</td>\n",
       "      <td>770.47</td>\n",
       "      <td>235617</td>\n",
       "      <td>888</td>\n",
       "    </tr>\n",
       "    <tr>\n",
       "      <th>8</th>\n",
       "      <td>ABFAR_Share</td>\n",
       "      <td>d</td>\n",
       "      <td>20060509</td>\n",
       "      <td>0</td>\n",
       "      <td>770.47</td>\n",
       "      <td>785.22</td>\n",
       "      <td>770.47</td>\n",
       "      <td>771.34</td>\n",
       "      <td>12094</td>\n",
       "      <td>889</td>\n",
       "    </tr>\n",
       "    <tr>\n",
       "      <th>9</th>\n",
       "      <td>ABFAR_Share</td>\n",
       "      <td>d</td>\n",
       "      <td>20060510</td>\n",
       "      <td>0</td>\n",
       "      <td>786.09</td>\n",
       "      <td>786.09</td>\n",
       "      <td>786.09</td>\n",
       "      <td>786.09</td>\n",
       "      <td>60673</td>\n",
       "      <td>906</td>\n",
       "    </tr>\n",
       "  </tbody>\n",
       "</table>\n",
       "</div>"
      ],
      "text/plain": [
       "        Ticker Per  DTYYYYMMDD  TIME    Open    High     Low   Close     Vol  \\\n",
       "0  ABFAR_Share   d    20060227     0  867.65  867.65  867.65  867.65     100   \n",
       "1  ABFAR_Share   d    20060228     0  867.65  885.00  850.29  864.18    5710   \n",
       "2  ABFAR_Share   d    20060430     0  847.69  847.69  847.69  847.69   13500   \n",
       "3  ABFAR_Share   d    20060501     0  831.21  831.21  831.21  831.21   13500   \n",
       "4  ABFAR_Share   d    20060502     0  814.72  814.72  814.72  814.72   13500   \n",
       "5  ABFAR_Share   d    20060506     0  799.10  799.10  799.10  799.10   50000   \n",
       "6  ABFAR_Share   d    20060507     0  783.49  783.49  783.49  783.49   60000   \n",
       "7  ABFAR_Share   d    20060508     0  767.87  799.10  767.87  770.47  235617   \n",
       "8  ABFAR_Share   d    20060509     0  770.47  785.22  770.47  771.34   12094   \n",
       "9  ABFAR_Share   d    20060510     0  786.09  786.09  786.09  786.09   60673   \n",
       "\n",
       "   Openint  \n",
       "0     1000  \n",
       "1      996  \n",
       "2      977  \n",
       "3      958  \n",
       "4      939  \n",
       "5      921  \n",
       "6      903  \n",
       "7      888  \n",
       "8      889  \n",
       "9      906  "
      ]
     },
     "execution_count": 6,
     "metadata": {},
     "output_type": "execute_result"
    }
   ],
   "source": [
    "data.head(10)"
   ]
  },
  {
   "cell_type": "code",
   "execution_count": 7,
   "metadata": {
    "colab": {
     "base_uri": "https://localhost:8080/",
     "height": 206
    },
    "id": "618yV8iz-c0D",
    "outputId": "8fa95c93-11fe-48ae-dadf-9b0e6f33b0f2"
   },
   "outputs": [
    {
     "data": {
      "text/html": [
       "<div>\n",
       "<style scoped>\n",
       "    .dataframe tbody tr th:only-of-type {\n",
       "        vertical-align: middle;\n",
       "    }\n",
       "\n",
       "    .dataframe tbody tr th {\n",
       "        vertical-align: top;\n",
       "    }\n",
       "\n",
       "    .dataframe thead th {\n",
       "        text-align: right;\n",
       "    }\n",
       "</style>\n",
       "<table border=\"1\" class=\"dataframe\">\n",
       "  <thead>\n",
       "    <tr style=\"text-align: right;\">\n",
       "      <th></th>\n",
       "      <th>Ticker</th>\n",
       "      <th>Per</th>\n",
       "      <th>DTYYYYMMDD</th>\n",
       "      <th>TIME</th>\n",
       "      <th>Open</th>\n",
       "      <th>High</th>\n",
       "      <th>Low</th>\n",
       "      <th>Close</th>\n",
       "      <th>Vol</th>\n",
       "      <th>Openint</th>\n",
       "    </tr>\n",
       "  </thead>\n",
       "  <tbody>\n",
       "    <tr>\n",
       "      <th>0</th>\n",
       "      <td>ABFAR_Share</td>\n",
       "      <td>d</td>\n",
       "      <td>20060227</td>\n",
       "      <td>0</td>\n",
       "      <td>867.65</td>\n",
       "      <td>867.65</td>\n",
       "      <td>867.65</td>\n",
       "      <td>867.65</td>\n",
       "      <td>100</td>\n",
       "      <td>1000</td>\n",
       "    </tr>\n",
       "    <tr>\n",
       "      <th>1</th>\n",
       "      <td>ABFAR_Share</td>\n",
       "      <td>d</td>\n",
       "      <td>20060228</td>\n",
       "      <td>0</td>\n",
       "      <td>867.65</td>\n",
       "      <td>885.00</td>\n",
       "      <td>850.29</td>\n",
       "      <td>864.18</td>\n",
       "      <td>5710</td>\n",
       "      <td>996</td>\n",
       "    </tr>\n",
       "    <tr>\n",
       "      <th>2</th>\n",
       "      <td>ABFAR_Share</td>\n",
       "      <td>d</td>\n",
       "      <td>20060430</td>\n",
       "      <td>0</td>\n",
       "      <td>847.69</td>\n",
       "      <td>847.69</td>\n",
       "      <td>847.69</td>\n",
       "      <td>847.69</td>\n",
       "      <td>13500</td>\n",
       "      <td>977</td>\n",
       "    </tr>\n",
       "    <tr>\n",
       "      <th>3</th>\n",
       "      <td>ABFAR_Share</td>\n",
       "      <td>d</td>\n",
       "      <td>20060501</td>\n",
       "      <td>0</td>\n",
       "      <td>831.21</td>\n",
       "      <td>831.21</td>\n",
       "      <td>831.21</td>\n",
       "      <td>831.21</td>\n",
       "      <td>13500</td>\n",
       "      <td>958</td>\n",
       "    </tr>\n",
       "    <tr>\n",
       "      <th>4</th>\n",
       "      <td>ABFAR_Share</td>\n",
       "      <td>d</td>\n",
       "      <td>20060502</td>\n",
       "      <td>0</td>\n",
       "      <td>814.72</td>\n",
       "      <td>814.72</td>\n",
       "      <td>814.72</td>\n",
       "      <td>814.72</td>\n",
       "      <td>13500</td>\n",
       "      <td>939</td>\n",
       "    </tr>\n",
       "  </tbody>\n",
       "</table>\n",
       "</div>"
      ],
      "text/plain": [
       "        Ticker Per  DTYYYYMMDD  TIME    Open    High     Low   Close    Vol  \\\n",
       "0  ABFAR_Share   d    20060227     0  867.65  867.65  867.65  867.65    100   \n",
       "1  ABFAR_Share   d    20060228     0  867.65  885.00  850.29  864.18   5710   \n",
       "2  ABFAR_Share   d    20060430     0  847.69  847.69  847.69  847.69  13500   \n",
       "3  ABFAR_Share   d    20060501     0  831.21  831.21  831.21  831.21  13500   \n",
       "4  ABFAR_Share   d    20060502     0  814.72  814.72  814.72  814.72  13500   \n",
       "\n",
       "   Openint  \n",
       "0     1000  \n",
       "1      996  \n",
       "2      977  \n",
       "3      958  \n",
       "4      939  "
      ]
     },
     "execution_count": 7,
     "metadata": {},
     "output_type": "execute_result"
    }
   ],
   "source": [
    "data.head()"
   ]
  },
  {
   "cell_type": "code",
   "execution_count": 8,
   "metadata": {
    "colab": {
     "base_uri": "https://localhost:8080/"
    },
    "id": "e9o9Yu-5-c3I",
    "outputId": "c5f3bc70-4a49-4ed2-8f92-cc4568789ec8"
   },
   "outputs": [
    {
     "data": {
      "text/plain": [
       "710"
      ]
     },
     "execution_count": 8,
     "metadata": {},
     "output_type": "execute_result"
    }
   ],
   "source": [
    "len(data.Ticker.unique())"
   ]
  },
  {
   "cell_type": "code",
   "execution_count": 11,
   "metadata": {
    "colab": {
     "base_uri": "https://localhost:8080/",
     "height": 206
    },
    "id": "CpDdSFSn-c6T",
    "outputId": "ced2a8c5-1fb9-4421-d283-92309ba83223"
   },
   "outputs": [
    {
     "data": {
      "text/html": [
       "<div>\n",
       "<style scoped>\n",
       "    .dataframe tbody tr th:only-of-type {\n",
       "        vertical-align: middle;\n",
       "    }\n",
       "\n",
       "    .dataframe tbody tr th {\n",
       "        vertical-align: top;\n",
       "    }\n",
       "\n",
       "    .dataframe thead th {\n",
       "        text-align: right;\n",
       "    }\n",
       "</style>\n",
       "<table border=\"1\" class=\"dataframe\">\n",
       "  <thead>\n",
       "    <tr style=\"text-align: right;\">\n",
       "      <th></th>\n",
       "      <th>Ticker</th>\n",
       "      <th>Per</th>\n",
       "      <th>DTYYYYMMDD</th>\n",
       "      <th>TIME</th>\n",
       "      <th>Open</th>\n",
       "      <th>High</th>\n",
       "      <th>Low</th>\n",
       "      <th>Close</th>\n",
       "      <th>Vol</th>\n",
       "      <th>Openint</th>\n",
       "    </tr>\n",
       "  </thead>\n",
       "  <tbody>\n",
       "    <tr>\n",
       "      <th>1028172</th>\n",
       "      <td>ZOB_Share</td>\n",
       "      <td>d</td>\n",
       "      <td>20200523</td>\n",
       "      <td>0</td>\n",
       "      <td>5698.0</td>\n",
       "      <td>5896.0</td>\n",
       "      <td>5698.0</td>\n",
       "      <td>5698.0</td>\n",
       "      <td>320475784</td>\n",
       "      <td>5713</td>\n",
       "    </tr>\n",
       "    <tr>\n",
       "      <th>1028173</th>\n",
       "      <td>ZOB_Share</td>\n",
       "      <td>d</td>\n",
       "      <td>20200526</td>\n",
       "      <td>0</td>\n",
       "      <td>5430.0</td>\n",
       "      <td>5662.0</td>\n",
       "      <td>5428.0</td>\n",
       "      <td>5428.0</td>\n",
       "      <td>155613030</td>\n",
       "      <td>5462</td>\n",
       "    </tr>\n",
       "    <tr>\n",
       "      <th>1028174</th>\n",
       "      <td>ZOB_Share</td>\n",
       "      <td>d</td>\n",
       "      <td>20200527</td>\n",
       "      <td>0</td>\n",
       "      <td>5189.0</td>\n",
       "      <td>5630.0</td>\n",
       "      <td>5189.0</td>\n",
       "      <td>5500.0</td>\n",
       "      <td>457796535</td>\n",
       "      <td>5364</td>\n",
       "    </tr>\n",
       "    <tr>\n",
       "      <th>1028175</th>\n",
       "      <td>ZOB_Share</td>\n",
       "      <td>d</td>\n",
       "      <td>20200530</td>\n",
       "      <td>0</td>\n",
       "      <td>5632.0</td>\n",
       "      <td>5632.0</td>\n",
       "      <td>5533.0</td>\n",
       "      <td>5632.0</td>\n",
       "      <td>78834060</td>\n",
       "      <td>5627</td>\n",
       "    </tr>\n",
       "    <tr>\n",
       "      <th>1028176</th>\n",
       "      <td>ZOB_Share</td>\n",
       "      <td>d</td>\n",
       "      <td>20200531</td>\n",
       "      <td>0</td>\n",
       "      <td>5869.0</td>\n",
       "      <td>5869.0</td>\n",
       "      <td>5346.0</td>\n",
       "      <td>5452.0</td>\n",
       "      <td>258546715</td>\n",
       "      <td>5587</td>\n",
       "    </tr>\n",
       "  </tbody>\n",
       "</table>\n",
       "</div>"
      ],
      "text/plain": [
       "            Ticker Per  DTYYYYMMDD  TIME    Open    High     Low   Close  \\\n",
       "1028172  ZOB_Share   d    20200523     0  5698.0  5896.0  5698.0  5698.0   \n",
       "1028173  ZOB_Share   d    20200526     0  5430.0  5662.0  5428.0  5428.0   \n",
       "1028174  ZOB_Share   d    20200527     0  5189.0  5630.0  5189.0  5500.0   \n",
       "1028175  ZOB_Share   d    20200530     0  5632.0  5632.0  5533.0  5632.0   \n",
       "1028176  ZOB_Share   d    20200531     0  5869.0  5869.0  5346.0  5452.0   \n",
       "\n",
       "               Vol  Openint  \n",
       "1028172  320475784     5713  \n",
       "1028173  155613030     5462  \n",
       "1028174  457796535     5364  \n",
       "1028175   78834060     5627  \n",
       "1028176  258546715     5587  "
      ]
     },
     "execution_count": 11,
     "metadata": {},
     "output_type": "execute_result"
    }
   ],
   "source": [
    "data.tail()"
   ]
  },
  {
   "cell_type": "code",
   "execution_count": 12,
   "metadata": {
    "colab": {
     "base_uri": "https://localhost:8080/"
    },
    "id": "8ZLCc08gC04i",
    "outputId": "7e55d998-2b50-4b12-e64f-c588a59e8212"
   },
   "outputs": [
    {
     "name": "stdout",
     "output_type": "stream",
     "text": [
      "<class 'pandas.core.frame.DataFrame'>\n",
      "RangeIndex: 1028177 entries, 0 to 1028176\n",
      "Data columns (total 10 columns):\n",
      " #   Column      Non-Null Count    Dtype  \n",
      "---  ------      --------------    -----  \n",
      " 0   Ticker      1028177 non-null  object \n",
      " 1   Per         1028177 non-null  object \n",
      " 2   DTYYYYMMDD  1028177 non-null  int64  \n",
      " 3   TIME        1028177 non-null  int64  \n",
      " 4   Open        1028176 non-null  float64\n",
      " 5   High        1028176 non-null  float64\n",
      " 6   Low         1028176 non-null  float64\n",
      " 7   Close       1028176 non-null  float64\n",
      " 8   Vol         1028177 non-null  int64  \n",
      " 9   Openint     1028177 non-null  int64  \n",
      "dtypes: float64(4), int64(4), object(2)\n",
      "memory usage: 70.6+ MB\n"
     ]
    }
   ],
   "source": [
    "data.info()"
   ]
  },
  {
   "cell_type": "code",
   "execution_count": 13,
   "metadata": {
    "colab": {
     "base_uri": "https://localhost:8080/"
    },
    "id": "OG_WSEMgGqSC",
    "outputId": "7fca6592-a11e-420d-ffd1-164d56ea72b9"
   },
   "outputs": [
    {
     "data": {
      "text/plain": [
       "(1028177, 10)"
      ]
     },
     "execution_count": 13,
     "metadata": {},
     "output_type": "execute_result"
    }
   ],
   "source": [
    "data.shape"
   ]
  },
  {
   "cell_type": "code",
   "execution_count": 14,
   "metadata": {
    "colab": {
     "base_uri": "https://localhost:8080/",
     "height": 300
    },
    "id": "A9UN-oRmC075",
    "outputId": "4e319409-2048-4e50-9cf0-8f685ad87c99"
   },
   "outputs": [
    {
     "data": {
      "text/html": [
       "<div>\n",
       "<style scoped>\n",
       "    .dataframe tbody tr th:only-of-type {\n",
       "        vertical-align: middle;\n",
       "    }\n",
       "\n",
       "    .dataframe tbody tr th {\n",
       "        vertical-align: top;\n",
       "    }\n",
       "\n",
       "    .dataframe thead th {\n",
       "        text-align: right;\n",
       "    }\n",
       "</style>\n",
       "<table border=\"1\" class=\"dataframe\">\n",
       "  <thead>\n",
       "    <tr style=\"text-align: right;\">\n",
       "      <th></th>\n",
       "      <th>DTYYYYMMDD</th>\n",
       "      <th>TIME</th>\n",
       "      <th>Open</th>\n",
       "      <th>High</th>\n",
       "      <th>Low</th>\n",
       "      <th>Close</th>\n",
       "      <th>Vol</th>\n",
       "      <th>Openint</th>\n",
       "    </tr>\n",
       "  </thead>\n",
       "  <tbody>\n",
       "    <tr>\n",
       "      <th>count</th>\n",
       "      <td>1.028177e+06</td>\n",
       "      <td>1028177.0</td>\n",
       "      <td>1.028176e+06</td>\n",
       "      <td>1.028176e+06</td>\n",
       "      <td>1.028176e+06</td>\n",
       "      <td>1.028176e+06</td>\n",
       "      <td>1.028177e+06</td>\n",
       "      <td>1.028177e+06</td>\n",
       "    </tr>\n",
       "    <tr>\n",
       "      <th>mean</th>\n",
       "      <td>2.014489e+07</td>\n",
       "      <td>0.0</td>\n",
       "      <td>3.844168e+03</td>\n",
       "      <td>3.908089e+03</td>\n",
       "      <td>3.756180e+03</td>\n",
       "      <td>3.831999e+03</td>\n",
       "      <td>3.501391e+06</td>\n",
       "      <td>6.946604e+03</td>\n",
       "    </tr>\n",
       "    <tr>\n",
       "      <th>std</th>\n",
       "      <td>4.019841e+04</td>\n",
       "      <td>0.0</td>\n",
       "      <td>9.525549e+03</td>\n",
       "      <td>9.675326e+03</td>\n",
       "      <td>9.286190e+03</td>\n",
       "      <td>9.484655e+03</td>\n",
       "      <td>2.963416e+07</td>\n",
       "      <td>1.590767e+04</td>\n",
       "    </tr>\n",
       "    <tr>\n",
       "      <th>min</th>\n",
       "      <td>2.005060e+07</td>\n",
       "      <td>0.0</td>\n",
       "      <td>-3.990780e+03</td>\n",
       "      <td>-4.088000e+03</td>\n",
       "      <td>-3.973660e+03</td>\n",
       "      <td>-4.031140e+03</td>\n",
       "      <td>0.000000e+00</td>\n",
       "      <td>1.000000e+00</td>\n",
       "    </tr>\n",
       "    <tr>\n",
       "      <th>25%</th>\n",
       "      <td>2.012030e+07</td>\n",
       "      <td>0.0</td>\n",
       "      <td>4.819200e+02</td>\n",
       "      <td>4.881375e+02</td>\n",
       "      <td>4.755800e+02</td>\n",
       "      <td>4.818200e+02</td>\n",
       "      <td>3.501000e+04</td>\n",
       "      <td>1.736000e+03</td>\n",
       "    </tr>\n",
       "    <tr>\n",
       "      <th>50%</th>\n",
       "      <td>2.015083e+07</td>\n",
       "      <td>0.0</td>\n",
       "      <td>1.225505e+03</td>\n",
       "      <td>1.245425e+03</td>\n",
       "      <td>1.203330e+03</td>\n",
       "      <td>1.222975e+03</td>\n",
       "      <td>2.508050e+05</td>\n",
       "      <td>3.284000e+03</td>\n",
       "    </tr>\n",
       "    <tr>\n",
       "      <th>75%</th>\n",
       "      <td>2.018043e+07</td>\n",
       "      <td>0.0</td>\n",
       "      <td>3.000000e+03</td>\n",
       "      <td>3.050000e+03</td>\n",
       "      <td>2.938985e+03</td>\n",
       "      <td>2.993278e+03</td>\n",
       "      <td>1.418778e+06</td>\n",
       "      <td>7.261000e+03</td>\n",
       "    </tr>\n",
       "    <tr>\n",
       "      <th>max</th>\n",
       "      <td>2.020053e+07</td>\n",
       "      <td>0.0</td>\n",
       "      <td>2.601060e+05</td>\n",
       "      <td>2.601060e+05</td>\n",
       "      <td>2.601060e+05</td>\n",
       "      <td>2.601060e+05</td>\n",
       "      <td>6.699987e+09</td>\n",
       "      <td>1.271485e+06</td>\n",
       "    </tr>\n",
       "  </tbody>\n",
       "</table>\n",
       "</div>"
      ],
      "text/plain": [
       "         DTYYYYMMDD       TIME          Open          High           Low  \\\n",
       "count  1.028177e+06  1028177.0  1.028176e+06  1.028176e+06  1.028176e+06   \n",
       "mean   2.014489e+07        0.0  3.844168e+03  3.908089e+03  3.756180e+03   \n",
       "std    4.019841e+04        0.0  9.525549e+03  9.675326e+03  9.286190e+03   \n",
       "min    2.005060e+07        0.0 -3.990780e+03 -4.088000e+03 -3.973660e+03   \n",
       "25%    2.012030e+07        0.0  4.819200e+02  4.881375e+02  4.755800e+02   \n",
       "50%    2.015083e+07        0.0  1.225505e+03  1.245425e+03  1.203330e+03   \n",
       "75%    2.018043e+07        0.0  3.000000e+03  3.050000e+03  2.938985e+03   \n",
       "max    2.020053e+07        0.0  2.601060e+05  2.601060e+05  2.601060e+05   \n",
       "\n",
       "              Close           Vol       Openint  \n",
       "count  1.028176e+06  1.028177e+06  1.028177e+06  \n",
       "mean   3.831999e+03  3.501391e+06  6.946604e+03  \n",
       "std    9.484655e+03  2.963416e+07  1.590767e+04  \n",
       "min   -4.031140e+03  0.000000e+00  1.000000e+00  \n",
       "25%    4.818200e+02  3.501000e+04  1.736000e+03  \n",
       "50%    1.222975e+03  2.508050e+05  3.284000e+03  \n",
       "75%    2.993278e+03  1.418778e+06  7.261000e+03  \n",
       "max    2.601060e+05  6.699987e+09  1.271485e+06  "
      ]
     },
     "execution_count": 14,
     "metadata": {},
     "output_type": "execute_result"
    }
   ],
   "source": [
    "data.describe()"
   ]
  },
  {
   "cell_type": "code",
   "execution_count": 15,
   "metadata": {
    "colab": {
     "base_uri": "https://localhost:8080/"
    },
    "id": "sucJOyinDB9U",
    "outputId": "3b1cce22-1579-4ce1-8412-18683f0b1046"
   },
   "outputs": [
    {
     "data": {
      "text/plain": [
       "array([0], dtype=int64)"
      ]
     },
     "execution_count": 15,
     "metadata": {},
     "output_type": "execute_result"
    }
   ],
   "source": [
    "data.TIME.unique()"
   ]
  },
  {
   "cell_type": "code",
   "execution_count": 16,
   "metadata": {
    "colab": {
     "base_uri": "https://localhost:8080/"
    },
    "id": "NSkXXUsfDlR8",
    "outputId": "bd5d7bcc-c0be-444b-d86f-310ba2730c1c"
   },
   "outputs": [
    {
     "data": {
      "text/plain": [
       "d    1.0\n",
       "Name: Per, dtype: float64"
      ]
     },
     "execution_count": 16,
     "metadata": {},
     "output_type": "execute_result"
    }
   ],
   "source": [
    "data.Per.value_counts(normalize=True)"
   ]
  },
  {
   "cell_type": "code",
   "execution_count": 17,
   "metadata": {
    "id": "lF4VAlOQDMQk"
   },
   "outputs": [],
   "source": [
    "data.drop([\"TIME\",\"Per\"],axis=1,inplace=True)"
   ]
  },
  {
   "cell_type": "code",
   "execution_count": 18,
   "metadata": {
    "colab": {
     "base_uri": "https://localhost:8080/"
    },
    "id": "WtmC2qIx-c9R",
    "outputId": "398cc8ff-edea-4fff-e027-a90ca6856429"
   },
   "outputs": [
    {
     "data": {
      "text/plain": [
       "Ticker        0\n",
       "DTYYYYMMDD    0\n",
       "Open          1\n",
       "High          1\n",
       "Low           1\n",
       "Close         1\n",
       "Vol           0\n",
       "Openint       0\n",
       "dtype: int64"
      ]
     },
     "execution_count": 18,
     "metadata": {},
     "output_type": "execute_result"
    }
   ],
   "source": [
    "data.isna().sum()"
   ]
  },
  {
   "cell_type": "code",
   "execution_count": 19,
   "metadata": {
    "id": "1KbnUHwl-dAK"
   },
   "outputs": [],
   "source": [
    "data.dropna(inplace=True)"
   ]
  },
  {
   "cell_type": "code",
   "execution_count": 20,
   "metadata": {
    "colab": {
     "base_uri": "https://localhost:8080/",
     "height": 206
    },
    "id": "fuQ90EXxDlWW",
    "outputId": "eab41770-c2c0-42e3-bc3a-a26ffc718cd1"
   },
   "outputs": [
    {
     "data": {
      "text/html": [
       "<div>\n",
       "<style scoped>\n",
       "    .dataframe tbody tr th:only-of-type {\n",
       "        vertical-align: middle;\n",
       "    }\n",
       "\n",
       "    .dataframe tbody tr th {\n",
       "        vertical-align: top;\n",
       "    }\n",
       "\n",
       "    .dataframe thead th {\n",
       "        text-align: right;\n",
       "    }\n",
       "</style>\n",
       "<table border=\"1\" class=\"dataframe\">\n",
       "  <thead>\n",
       "    <tr style=\"text-align: right;\">\n",
       "      <th></th>\n",
       "      <th>Ticker</th>\n",
       "      <th>DTYYYYMMDD</th>\n",
       "      <th>Open</th>\n",
       "      <th>High</th>\n",
       "      <th>Low</th>\n",
       "      <th>Close</th>\n",
       "      <th>Vol</th>\n",
       "      <th>Openint</th>\n",
       "    </tr>\n",
       "  </thead>\n",
       "  <tbody>\n",
       "    <tr>\n",
       "      <th>0</th>\n",
       "      <td>ABFAR_Share</td>\n",
       "      <td>20060227</td>\n",
       "      <td>867.65</td>\n",
       "      <td>867.65</td>\n",
       "      <td>867.65</td>\n",
       "      <td>867.65</td>\n",
       "      <td>100</td>\n",
       "      <td>1000</td>\n",
       "    </tr>\n",
       "    <tr>\n",
       "      <th>1</th>\n",
       "      <td>ABFAR_Share</td>\n",
       "      <td>20060228</td>\n",
       "      <td>867.65</td>\n",
       "      <td>885.00</td>\n",
       "      <td>850.29</td>\n",
       "      <td>864.18</td>\n",
       "      <td>5710</td>\n",
       "      <td>996</td>\n",
       "    </tr>\n",
       "    <tr>\n",
       "      <th>2</th>\n",
       "      <td>ABFAR_Share</td>\n",
       "      <td>20060430</td>\n",
       "      <td>847.69</td>\n",
       "      <td>847.69</td>\n",
       "      <td>847.69</td>\n",
       "      <td>847.69</td>\n",
       "      <td>13500</td>\n",
       "      <td>977</td>\n",
       "    </tr>\n",
       "    <tr>\n",
       "      <th>3</th>\n",
       "      <td>ABFAR_Share</td>\n",
       "      <td>20060501</td>\n",
       "      <td>831.21</td>\n",
       "      <td>831.21</td>\n",
       "      <td>831.21</td>\n",
       "      <td>831.21</td>\n",
       "      <td>13500</td>\n",
       "      <td>958</td>\n",
       "    </tr>\n",
       "    <tr>\n",
       "      <th>4</th>\n",
       "      <td>ABFAR_Share</td>\n",
       "      <td>20060502</td>\n",
       "      <td>814.72</td>\n",
       "      <td>814.72</td>\n",
       "      <td>814.72</td>\n",
       "      <td>814.72</td>\n",
       "      <td>13500</td>\n",
       "      <td>939</td>\n",
       "    </tr>\n",
       "  </tbody>\n",
       "</table>\n",
       "</div>"
      ],
      "text/plain": [
       "        Ticker  DTYYYYMMDD    Open    High     Low   Close    Vol  Openint\n",
       "0  ABFAR_Share    20060227  867.65  867.65  867.65  867.65    100     1000\n",
       "1  ABFAR_Share    20060228  867.65  885.00  850.29  864.18   5710      996\n",
       "2  ABFAR_Share    20060430  847.69  847.69  847.69  847.69  13500      977\n",
       "3  ABFAR_Share    20060501  831.21  831.21  831.21  831.21  13500      958\n",
       "4  ABFAR_Share    20060502  814.72  814.72  814.72  814.72  13500      939"
      ]
     },
     "execution_count": 20,
     "metadata": {},
     "output_type": "execute_result"
    }
   ],
   "source": [
    "Date=[int(x) for x in data.DTYYYYMMDD\n",
    "      ]\n",
    "data['DTYYYYMMDD']=Date\n",
    "data.head()"
   ]
  },
  {
   "cell_type": "code",
   "execution_count": 21,
   "metadata": {
    "id": "AV5DXi2kIFiU"
   },
   "outputs": [],
   "source": [
    "data['Date'] = pd.to_datetime(data['DTYYYYMMDD'], format='%Y%m%d')"
   ]
  },
  {
   "cell_type": "code",
   "execution_count": 22,
   "metadata": {
    "colab": {
     "base_uri": "https://localhost:8080/",
     "height": 206
    },
    "id": "Mp0P91BwIFls",
    "outputId": "4dbbd44c-bff1-4164-d9af-fa59e14ef958"
   },
   "outputs": [
    {
     "data": {
      "text/html": [
       "<div>\n",
       "<style scoped>\n",
       "    .dataframe tbody tr th:only-of-type {\n",
       "        vertical-align: middle;\n",
       "    }\n",
       "\n",
       "    .dataframe tbody tr th {\n",
       "        vertical-align: top;\n",
       "    }\n",
       "\n",
       "    .dataframe thead th {\n",
       "        text-align: right;\n",
       "    }\n",
       "</style>\n",
       "<table border=\"1\" class=\"dataframe\">\n",
       "  <thead>\n",
       "    <tr style=\"text-align: right;\">\n",
       "      <th></th>\n",
       "      <th>Ticker</th>\n",
       "      <th>DTYYYYMMDD</th>\n",
       "      <th>Open</th>\n",
       "      <th>High</th>\n",
       "      <th>Low</th>\n",
       "      <th>Close</th>\n",
       "      <th>Vol</th>\n",
       "      <th>Openint</th>\n",
       "      <th>Date</th>\n",
       "    </tr>\n",
       "  </thead>\n",
       "  <tbody>\n",
       "    <tr>\n",
       "      <th>0</th>\n",
       "      <td>ABFAR_Share</td>\n",
       "      <td>20060227</td>\n",
       "      <td>867.65</td>\n",
       "      <td>867.65</td>\n",
       "      <td>867.65</td>\n",
       "      <td>867.65</td>\n",
       "      <td>100</td>\n",
       "      <td>1000</td>\n",
       "      <td>2006-02-27</td>\n",
       "    </tr>\n",
       "    <tr>\n",
       "      <th>1</th>\n",
       "      <td>ABFAR_Share</td>\n",
       "      <td>20060228</td>\n",
       "      <td>867.65</td>\n",
       "      <td>885.00</td>\n",
       "      <td>850.29</td>\n",
       "      <td>864.18</td>\n",
       "      <td>5710</td>\n",
       "      <td>996</td>\n",
       "      <td>2006-02-28</td>\n",
       "    </tr>\n",
       "    <tr>\n",
       "      <th>2</th>\n",
       "      <td>ABFAR_Share</td>\n",
       "      <td>20060430</td>\n",
       "      <td>847.69</td>\n",
       "      <td>847.69</td>\n",
       "      <td>847.69</td>\n",
       "      <td>847.69</td>\n",
       "      <td>13500</td>\n",
       "      <td>977</td>\n",
       "      <td>2006-04-30</td>\n",
       "    </tr>\n",
       "    <tr>\n",
       "      <th>3</th>\n",
       "      <td>ABFAR_Share</td>\n",
       "      <td>20060501</td>\n",
       "      <td>831.21</td>\n",
       "      <td>831.21</td>\n",
       "      <td>831.21</td>\n",
       "      <td>831.21</td>\n",
       "      <td>13500</td>\n",
       "      <td>958</td>\n",
       "      <td>2006-05-01</td>\n",
       "    </tr>\n",
       "    <tr>\n",
       "      <th>4</th>\n",
       "      <td>ABFAR_Share</td>\n",
       "      <td>20060502</td>\n",
       "      <td>814.72</td>\n",
       "      <td>814.72</td>\n",
       "      <td>814.72</td>\n",
       "      <td>814.72</td>\n",
       "      <td>13500</td>\n",
       "      <td>939</td>\n",
       "      <td>2006-05-02</td>\n",
       "    </tr>\n",
       "  </tbody>\n",
       "</table>\n",
       "</div>"
      ],
      "text/plain": [
       "        Ticker  DTYYYYMMDD    Open    High     Low   Close    Vol  Openint  \\\n",
       "0  ABFAR_Share    20060227  867.65  867.65  867.65  867.65    100     1000   \n",
       "1  ABFAR_Share    20060228  867.65  885.00  850.29  864.18   5710      996   \n",
       "2  ABFAR_Share    20060430  847.69  847.69  847.69  847.69  13500      977   \n",
       "3  ABFAR_Share    20060501  831.21  831.21  831.21  831.21  13500      958   \n",
       "4  ABFAR_Share    20060502  814.72  814.72  814.72  814.72  13500      939   \n",
       "\n",
       "        Date  \n",
       "0 2006-02-27  \n",
       "1 2006-02-28  \n",
       "2 2006-04-30  \n",
       "3 2006-05-01  \n",
       "4 2006-05-02  "
      ]
     },
     "execution_count": 22,
     "metadata": {},
     "output_type": "execute_result"
    }
   ],
   "source": [
    "data.head()"
   ]
  },
  {
   "cell_type": "code",
   "execution_count": 23,
   "metadata": {
    "id": "uEkATZEeIFqs"
   },
   "outputs": [],
   "source": [
    "data.drop(\"DTYYYYMMDD\",axis=1,inplace=True)"
   ]
  },
  {
   "cell_type": "code",
   "execution_count": 24,
   "metadata": {
    "colab": {
     "base_uri": "https://localhost:8080/",
     "height": 206
    },
    "id": "-7FToS7NL9nu",
    "outputId": "442c497e-2232-4542-9664-e7642044740c"
   },
   "outputs": [
    {
     "data": {
      "text/html": [
       "<div>\n",
       "<style scoped>\n",
       "    .dataframe tbody tr th:only-of-type {\n",
       "        vertical-align: middle;\n",
       "    }\n",
       "\n",
       "    .dataframe tbody tr th {\n",
       "        vertical-align: top;\n",
       "    }\n",
       "\n",
       "    .dataframe thead th {\n",
       "        text-align: right;\n",
       "    }\n",
       "</style>\n",
       "<table border=\"1\" class=\"dataframe\">\n",
       "  <thead>\n",
       "    <tr style=\"text-align: right;\">\n",
       "      <th></th>\n",
       "      <th>Ticker</th>\n",
       "      <th>Open</th>\n",
       "      <th>High</th>\n",
       "      <th>Low</th>\n",
       "      <th>Close</th>\n",
       "      <th>Vol</th>\n",
       "      <th>Openint</th>\n",
       "      <th>Date</th>\n",
       "    </tr>\n",
       "  </thead>\n",
       "  <tbody>\n",
       "    <tr>\n",
       "      <th>0</th>\n",
       "      <td>ABFAR_Share</td>\n",
       "      <td>867.65</td>\n",
       "      <td>867.65</td>\n",
       "      <td>867.65</td>\n",
       "      <td>867.65</td>\n",
       "      <td>100</td>\n",
       "      <td>1000</td>\n",
       "      <td>2006-02-27</td>\n",
       "    </tr>\n",
       "    <tr>\n",
       "      <th>1</th>\n",
       "      <td>ABFAR_Share</td>\n",
       "      <td>867.65</td>\n",
       "      <td>885.00</td>\n",
       "      <td>850.29</td>\n",
       "      <td>864.18</td>\n",
       "      <td>5710</td>\n",
       "      <td>996</td>\n",
       "      <td>2006-02-28</td>\n",
       "    </tr>\n",
       "    <tr>\n",
       "      <th>2</th>\n",
       "      <td>ABFAR_Share</td>\n",
       "      <td>847.69</td>\n",
       "      <td>847.69</td>\n",
       "      <td>847.69</td>\n",
       "      <td>847.69</td>\n",
       "      <td>13500</td>\n",
       "      <td>977</td>\n",
       "      <td>2006-04-30</td>\n",
       "    </tr>\n",
       "    <tr>\n",
       "      <th>3</th>\n",
       "      <td>ABFAR_Share</td>\n",
       "      <td>831.21</td>\n",
       "      <td>831.21</td>\n",
       "      <td>831.21</td>\n",
       "      <td>831.21</td>\n",
       "      <td>13500</td>\n",
       "      <td>958</td>\n",
       "      <td>2006-05-01</td>\n",
       "    </tr>\n",
       "    <tr>\n",
       "      <th>4</th>\n",
       "      <td>ABFAR_Share</td>\n",
       "      <td>814.72</td>\n",
       "      <td>814.72</td>\n",
       "      <td>814.72</td>\n",
       "      <td>814.72</td>\n",
       "      <td>13500</td>\n",
       "      <td>939</td>\n",
       "      <td>2006-05-02</td>\n",
       "    </tr>\n",
       "  </tbody>\n",
       "</table>\n",
       "</div>"
      ],
      "text/plain": [
       "        Ticker    Open    High     Low   Close    Vol  Openint       Date\n",
       "0  ABFAR_Share  867.65  867.65  867.65  867.65    100     1000 2006-02-27\n",
       "1  ABFAR_Share  867.65  885.00  850.29  864.18   5710      996 2006-02-28\n",
       "2  ABFAR_Share  847.69  847.69  847.69  847.69  13500      977 2006-04-30\n",
       "3  ABFAR_Share  831.21  831.21  831.21  831.21  13500      958 2006-05-01\n",
       "4  ABFAR_Share  814.72  814.72  814.72  814.72  13500      939 2006-05-02"
      ]
     },
     "execution_count": 24,
     "metadata": {},
     "output_type": "execute_result"
    }
   ],
   "source": [
    "data.head()"
   ]
  },
  {
   "cell_type": "code",
   "execution_count": 25,
   "metadata": {
    "colab": {
     "base_uri": "https://localhost:8080/"
    },
    "id": "Ti_ULG3s-dDo",
    "outputId": "12c43641-4ddf-4660-ec13-ccf0b69f4b8e"
   },
   "outputs": [
    {
     "data": {
      "text/plain": [
       "VASAKHT_Share     3316\n",
       "VASEPAH_Share     3302\n",
       "VATOSA_Share      3289\n",
       "DESOBHA_Share     3267\n",
       "VABAHMAN_Share    3264\n",
       "Name: Ticker, dtype: int64"
      ]
     },
     "execution_count": 25,
     "metadata": {},
     "output_type": "execute_result"
    }
   ],
   "source": [
    "data.Ticker.value_counts().head()"
   ]
  },
  {
   "cell_type": "code",
   "execution_count": 26,
   "metadata": {
    "id": "sc2dTELT-dGk"
   },
   "outputs": [],
   "source": [
    "cfars=data[data.Ticker==\"CEFARS_Share\"]"
   ]
  },
  {
   "cell_type": "code",
   "execution_count": 27,
   "metadata": {
    "colab": {
     "base_uri": "https://localhost:8080/",
     "height": 206
    },
    "id": "eEVaUH4tBxba",
    "outputId": "be1963c9-9ea4-4888-e595-36a646b0a2df"
   },
   "outputs": [
    {
     "data": {
      "text/html": [
       "<div>\n",
       "<style scoped>\n",
       "    .dataframe tbody tr th:only-of-type {\n",
       "        vertical-align: middle;\n",
       "    }\n",
       "\n",
       "    .dataframe tbody tr th {\n",
       "        vertical-align: top;\n",
       "    }\n",
       "\n",
       "    .dataframe thead th {\n",
       "        text-align: right;\n",
       "    }\n",
       "</style>\n",
       "<table border=\"1\" class=\"dataframe\">\n",
       "  <thead>\n",
       "    <tr style=\"text-align: right;\">\n",
       "      <th></th>\n",
       "      <th>Ticker</th>\n",
       "      <th>Open</th>\n",
       "      <th>High</th>\n",
       "      <th>Low</th>\n",
       "      <th>Close</th>\n",
       "      <th>Vol</th>\n",
       "      <th>Openint</th>\n",
       "      <th>Date</th>\n",
       "    </tr>\n",
       "  </thead>\n",
       "  <tbody>\n",
       "    <tr>\n",
       "      <th>68998</th>\n",
       "      <td>CEFARS_Share</td>\n",
       "      <td>852.58</td>\n",
       "      <td>859.75</td>\n",
       "      <td>836.30</td>\n",
       "      <td>857.93</td>\n",
       "      <td>692774</td>\n",
       "      <td>6586</td>\n",
       "      <td>2005-06-01</td>\n",
       "    </tr>\n",
       "    <tr>\n",
       "      <th>68999</th>\n",
       "      <td>CEFARS_Share</td>\n",
       "      <td>856.88</td>\n",
       "      <td>860.14</td>\n",
       "      <td>840.73</td>\n",
       "      <td>856.49</td>\n",
       "      <td>321415</td>\n",
       "      <td>6575</td>\n",
       "      <td>2005-06-06</td>\n",
       "    </tr>\n",
       "    <tr>\n",
       "      <th>69000</th>\n",
       "      <td>CEFARS_Share</td>\n",
       "      <td>852.19</td>\n",
       "      <td>852.19</td>\n",
       "      <td>833.70</td>\n",
       "      <td>852.19</td>\n",
       "      <td>564475</td>\n",
       "      <td>6542</td>\n",
       "      <td>2005-06-07</td>\n",
       "    </tr>\n",
       "    <tr>\n",
       "      <th>69001</th>\n",
       "      <td>CEFARS_Share</td>\n",
       "      <td>832.52</td>\n",
       "      <td>848.29</td>\n",
       "      <td>819.37</td>\n",
       "      <td>848.29</td>\n",
       "      <td>194668</td>\n",
       "      <td>6512</td>\n",
       "      <td>2005-06-08</td>\n",
       "    </tr>\n",
       "    <tr>\n",
       "      <th>69002</th>\n",
       "      <td>CEFARS_Share</td>\n",
       "      <td>836.30</td>\n",
       "      <td>846.72</td>\n",
       "      <td>807.64</td>\n",
       "      <td>836.43</td>\n",
       "      <td>561611</td>\n",
       "      <td>6421</td>\n",
       "      <td>2005-06-11</td>\n",
       "    </tr>\n",
       "  </tbody>\n",
       "</table>\n",
       "</div>"
      ],
      "text/plain": [
       "             Ticker    Open    High     Low   Close     Vol  Openint  \\\n",
       "68998  CEFARS_Share  852.58  859.75  836.30  857.93  692774     6586   \n",
       "68999  CEFARS_Share  856.88  860.14  840.73  856.49  321415     6575   \n",
       "69000  CEFARS_Share  852.19  852.19  833.70  852.19  564475     6542   \n",
       "69001  CEFARS_Share  832.52  848.29  819.37  848.29  194668     6512   \n",
       "69002  CEFARS_Share  836.30  846.72  807.64  836.43  561611     6421   \n",
       "\n",
       "            Date  \n",
       "68998 2005-06-01  \n",
       "68999 2005-06-06  \n",
       "69000 2005-06-07  \n",
       "69001 2005-06-08  \n",
       "69002 2005-06-11  "
      ]
     },
     "execution_count": 27,
     "metadata": {},
     "output_type": "execute_result"
    }
   ],
   "source": [
    "cfars.head()"
   ]
  },
  {
   "cell_type": "code",
   "execution_count": 28,
   "metadata": {
    "id": "dpjjgbE_WN26"
   },
   "outputs": [],
   "source": [
    "cfars.reset_index(drop=True,inplace=True)"
   ]
  },
  {
   "cell_type": "code",
   "execution_count": 29,
   "metadata": {
    "colab": {
     "base_uri": "https://localhost:8080/"
    },
    "id": "r8Vi4YbGWYps",
    "outputId": "d73a3cc3-a28b-4d12-b933-7f6a8aeab714"
   },
   "outputs": [
    {
     "name": "stdout",
     "output_type": "stream",
     "text": [
      "<class 'pandas.core.frame.DataFrame'>\n",
      "RangeIndex: 3260 entries, 0 to 3259\n",
      "Data columns (total 8 columns):\n",
      " #   Column   Non-Null Count  Dtype         \n",
      "---  ------   --------------  -----         \n",
      " 0   Ticker   3260 non-null   object        \n",
      " 1   Open     3260 non-null   float64       \n",
      " 2   High     3260 non-null   float64       \n",
      " 3   Low      3260 non-null   float64       \n",
      " 4   Close    3260 non-null   float64       \n",
      " 5   Vol      3260 non-null   int64         \n",
      " 6   Openint  3260 non-null   int64         \n",
      " 7   Date     3260 non-null   datetime64[ns]\n",
      "dtypes: datetime64[ns](1), float64(4), int64(2), object(1)\n",
      "memory usage: 191.1+ KB\n"
     ]
    }
   ],
   "source": [
    "cfars.info()"
   ]
  },
  {
   "cell_type": "code",
   "execution_count": 30,
   "metadata": {
    "colab": {
     "base_uri": "https://localhost:8080/",
     "height": 300
    },
    "id": "UaquBIBnWZBE",
    "outputId": "7a8f5513-a0b5-451b-ab01-a181bb6901e4"
   },
   "outputs": [
    {
     "data": {
      "text/html": [
       "<div>\n",
       "<style scoped>\n",
       "    .dataframe tbody tr th:only-of-type {\n",
       "        vertical-align: middle;\n",
       "    }\n",
       "\n",
       "    .dataframe tbody tr th {\n",
       "        vertical-align: top;\n",
       "    }\n",
       "\n",
       "    .dataframe thead th {\n",
       "        text-align: right;\n",
       "    }\n",
       "</style>\n",
       "<table border=\"1\" class=\"dataframe\">\n",
       "  <thead>\n",
       "    <tr style=\"text-align: right;\">\n",
       "      <th></th>\n",
       "      <th>Open</th>\n",
       "      <th>High</th>\n",
       "      <th>Low</th>\n",
       "      <th>Close</th>\n",
       "      <th>Vol</th>\n",
       "      <th>Openint</th>\n",
       "    </tr>\n",
       "  </thead>\n",
       "  <tbody>\n",
       "    <tr>\n",
       "      <th>count</th>\n",
       "      <td>3260.000000</td>\n",
       "      <td>3260.000000</td>\n",
       "      <td>3260.000000</td>\n",
       "      <td>3260.000000</td>\n",
       "      <td>3.260000e+03</td>\n",
       "      <td>3260.000000</td>\n",
       "    </tr>\n",
       "    <tr>\n",
       "      <th>mean</th>\n",
       "      <td>1370.073641</td>\n",
       "      <td>1393.582666</td>\n",
       "      <td>1342.370831</td>\n",
       "      <td>1367.468077</td>\n",
       "      <td>4.117208e+06</td>\n",
       "      <td>2418.105521</td>\n",
       "    </tr>\n",
       "    <tr>\n",
       "      <th>std</th>\n",
       "      <td>2213.132141</td>\n",
       "      <td>2251.045367</td>\n",
       "      <td>2151.253279</td>\n",
       "      <td>2203.112926</td>\n",
       "      <td>1.211185e+07</td>\n",
       "      <td>2242.960842</td>\n",
       "    </tr>\n",
       "    <tr>\n",
       "      <th>min</th>\n",
       "      <td>300.540000</td>\n",
       "      <td>301.790000</td>\n",
       "      <td>297.790000</td>\n",
       "      <td>298.290000</td>\n",
       "      <td>1.000000e+02</td>\n",
       "      <td>946.000000</td>\n",
       "    </tr>\n",
       "    <tr>\n",
       "      <th>25%</th>\n",
       "      <td>463.340000</td>\n",
       "      <td>469.620000</td>\n",
       "      <td>458.427500</td>\n",
       "      <td>466.180000</td>\n",
       "      <td>2.413485e+05</td>\n",
       "      <td>1241.750000</td>\n",
       "    </tr>\n",
       "    <tr>\n",
       "      <th>50%</th>\n",
       "      <td>852.385000</td>\n",
       "      <td>865.415000</td>\n",
       "      <td>837.930000</td>\n",
       "      <td>855.345000</td>\n",
       "      <td>7.020420e+05</td>\n",
       "      <td>1646.000000</td>\n",
       "    </tr>\n",
       "    <tr>\n",
       "      <th>75%</th>\n",
       "      <td>1342.697500</td>\n",
       "      <td>1370.972500</td>\n",
       "      <td>1317.250000</td>\n",
       "      <td>1339.580000</td>\n",
       "      <td>2.195947e+06</td>\n",
       "      <td>2840.000000</td>\n",
       "    </tr>\n",
       "    <tr>\n",
       "      <th>max</th>\n",
       "      <td>23600.000000</td>\n",
       "      <td>23600.000000</td>\n",
       "      <td>21788.000000</td>\n",
       "      <td>22877.000000</td>\n",
       "      <td>1.683978e+08</td>\n",
       "      <td>22852.000000</td>\n",
       "    </tr>\n",
       "  </tbody>\n",
       "</table>\n",
       "</div>"
      ],
      "text/plain": [
       "               Open          High           Low         Close           Vol  \\\n",
       "count   3260.000000   3260.000000   3260.000000   3260.000000  3.260000e+03   \n",
       "mean    1370.073641   1393.582666   1342.370831   1367.468077  4.117208e+06   \n",
       "std     2213.132141   2251.045367   2151.253279   2203.112926  1.211185e+07   \n",
       "min      300.540000    301.790000    297.790000    298.290000  1.000000e+02   \n",
       "25%      463.340000    469.620000    458.427500    466.180000  2.413485e+05   \n",
       "50%      852.385000    865.415000    837.930000    855.345000  7.020420e+05   \n",
       "75%     1342.697500   1370.972500   1317.250000   1339.580000  2.195947e+06   \n",
       "max    23600.000000  23600.000000  21788.000000  22877.000000  1.683978e+08   \n",
       "\n",
       "            Openint  \n",
       "count   3260.000000  \n",
       "mean    2418.105521  \n",
       "std     2242.960842  \n",
       "min      946.000000  \n",
       "25%     1241.750000  \n",
       "50%     1646.000000  \n",
       "75%     2840.000000  \n",
       "max    22852.000000  "
      ]
     },
     "execution_count": 30,
     "metadata": {},
     "output_type": "execute_result"
    }
   ],
   "source": [
    "cfars.describe()"
   ]
  },
  {
   "cell_type": "code",
   "execution_count": 31,
   "metadata": {
    "colab": {
     "base_uri": "https://localhost:8080/"
    },
    "id": "ZbGR4vB_Bxfb",
    "outputId": "99d0b916-dbc4-44de-f15e-74abdaad04a5"
   },
   "outputs": [
    {
     "data": {
      "text/plain": [
       "(3260, 8)"
      ]
     },
     "execution_count": 31,
     "metadata": {},
     "output_type": "execute_result"
    }
   ],
   "source": [
    "cfars.shape"
   ]
  },
  {
   "cell_type": "code",
   "execution_count": 32,
   "metadata": {
    "colab": {
     "base_uri": "https://localhost:8080/"
    },
    "id": "N1tJRgoXWt78",
    "outputId": "8fe973bb-f18e-4c89-9b9e-95fcbe1beda9"
   },
   "outputs": [
    {
     "name": "stderr",
     "output_type": "stream",
     "text": [
      "C:\\ProgramData\\Anaconda3\\lib\\site-packages\\pandas\\core\\frame.py:4163: SettingWithCopyWarning: \n",
      "A value is trying to be set on a copy of a slice from a DataFrame\n",
      "\n",
      "See the caveats in the documentation: https://pandas.pydata.org/pandas-docs/stable/user_guide/indexing.html#returning-a-view-versus-a-copy\n",
      "  return super().drop(\n"
     ]
    }
   ],
   "source": [
    "cfars.drop(\"Ticker\",axis=1,inplace=True)"
   ]
  },
  {
   "cell_type": "code",
   "execution_count": 33,
   "metadata": {
    "colab": {
     "base_uri": "https://localhost:8080/",
     "height": 206
    },
    "id": "gApkkaWHXCAI",
    "outputId": "c23ebf65-6c7f-4167-a41b-0854ba221bb4"
   },
   "outputs": [
    {
     "data": {
      "text/html": [
       "<div>\n",
       "<style scoped>\n",
       "    .dataframe tbody tr th:only-of-type {\n",
       "        vertical-align: middle;\n",
       "    }\n",
       "\n",
       "    .dataframe tbody tr th {\n",
       "        vertical-align: top;\n",
       "    }\n",
       "\n",
       "    .dataframe thead th {\n",
       "        text-align: right;\n",
       "    }\n",
       "</style>\n",
       "<table border=\"1\" class=\"dataframe\">\n",
       "  <thead>\n",
       "    <tr style=\"text-align: right;\">\n",
       "      <th></th>\n",
       "      <th>Open</th>\n",
       "      <th>High</th>\n",
       "      <th>Low</th>\n",
       "      <th>Close</th>\n",
       "      <th>Vol</th>\n",
       "      <th>Openint</th>\n",
       "      <th>Date</th>\n",
       "    </tr>\n",
       "  </thead>\n",
       "  <tbody>\n",
       "    <tr>\n",
       "      <th>0</th>\n",
       "      <td>852.58</td>\n",
       "      <td>859.75</td>\n",
       "      <td>836.30</td>\n",
       "      <td>857.93</td>\n",
       "      <td>692774</td>\n",
       "      <td>6586</td>\n",
       "      <td>2005-06-01</td>\n",
       "    </tr>\n",
       "    <tr>\n",
       "      <th>1</th>\n",
       "      <td>856.88</td>\n",
       "      <td>860.14</td>\n",
       "      <td>840.73</td>\n",
       "      <td>856.49</td>\n",
       "      <td>321415</td>\n",
       "      <td>6575</td>\n",
       "      <td>2005-06-06</td>\n",
       "    </tr>\n",
       "    <tr>\n",
       "      <th>2</th>\n",
       "      <td>852.19</td>\n",
       "      <td>852.19</td>\n",
       "      <td>833.70</td>\n",
       "      <td>852.19</td>\n",
       "      <td>564475</td>\n",
       "      <td>6542</td>\n",
       "      <td>2005-06-07</td>\n",
       "    </tr>\n",
       "    <tr>\n",
       "      <th>3</th>\n",
       "      <td>832.52</td>\n",
       "      <td>848.29</td>\n",
       "      <td>819.37</td>\n",
       "      <td>848.29</td>\n",
       "      <td>194668</td>\n",
       "      <td>6512</td>\n",
       "      <td>2005-06-08</td>\n",
       "    </tr>\n",
       "    <tr>\n",
       "      <th>4</th>\n",
       "      <td>836.30</td>\n",
       "      <td>846.72</td>\n",
       "      <td>807.64</td>\n",
       "      <td>836.43</td>\n",
       "      <td>561611</td>\n",
       "      <td>6421</td>\n",
       "      <td>2005-06-11</td>\n",
       "    </tr>\n",
       "  </tbody>\n",
       "</table>\n",
       "</div>"
      ],
      "text/plain": [
       "     Open    High     Low   Close     Vol  Openint       Date\n",
       "0  852.58  859.75  836.30  857.93  692774     6586 2005-06-01\n",
       "1  856.88  860.14  840.73  856.49  321415     6575 2005-06-06\n",
       "2  852.19  852.19  833.70  852.19  564475     6542 2005-06-07\n",
       "3  832.52  848.29  819.37  848.29  194668     6512 2005-06-08\n",
       "4  836.30  846.72  807.64  836.43  561611     6421 2005-06-11"
      ]
     },
     "execution_count": 33,
     "metadata": {},
     "output_type": "execute_result"
    }
   ],
   "source": [
    "cfars.head()"
   ]
  },
  {
   "cell_type": "code",
   "execution_count": 34,
   "metadata": {
    "id": "mnFoNtW_XLoa"
   },
   "outputs": [],
   "source": [
    "cfars.index=cfars.Date"
   ]
  },
  {
   "cell_type": "code",
   "execution_count": 35,
   "metadata": {
    "colab": {
     "base_uri": "https://localhost:8080/",
     "height": 238
    },
    "id": "DDQX3bgjXWhQ",
    "outputId": "761aa83b-c7b7-49af-e2e8-9b9a8d4f45dc"
   },
   "outputs": [
    {
     "data": {
      "text/html": [
       "<div>\n",
       "<style scoped>\n",
       "    .dataframe tbody tr th:only-of-type {\n",
       "        vertical-align: middle;\n",
       "    }\n",
       "\n",
       "    .dataframe tbody tr th {\n",
       "        vertical-align: top;\n",
       "    }\n",
       "\n",
       "    .dataframe thead th {\n",
       "        text-align: right;\n",
       "    }\n",
       "</style>\n",
       "<table border=\"1\" class=\"dataframe\">\n",
       "  <thead>\n",
       "    <tr style=\"text-align: right;\">\n",
       "      <th></th>\n",
       "      <th>Open</th>\n",
       "      <th>High</th>\n",
       "      <th>Low</th>\n",
       "      <th>Close</th>\n",
       "      <th>Vol</th>\n",
       "      <th>Openint</th>\n",
       "      <th>Date</th>\n",
       "    </tr>\n",
       "    <tr>\n",
       "      <th>Date</th>\n",
       "      <th></th>\n",
       "      <th></th>\n",
       "      <th></th>\n",
       "      <th></th>\n",
       "      <th></th>\n",
       "      <th></th>\n",
       "      <th></th>\n",
       "    </tr>\n",
       "  </thead>\n",
       "  <tbody>\n",
       "    <tr>\n",
       "      <th>2005-06-01</th>\n",
       "      <td>852.58</td>\n",
       "      <td>859.75</td>\n",
       "      <td>836.30</td>\n",
       "      <td>857.93</td>\n",
       "      <td>692774</td>\n",
       "      <td>6586</td>\n",
       "      <td>2005-06-01</td>\n",
       "    </tr>\n",
       "    <tr>\n",
       "      <th>2005-06-06</th>\n",
       "      <td>856.88</td>\n",
       "      <td>860.14</td>\n",
       "      <td>840.73</td>\n",
       "      <td>856.49</td>\n",
       "      <td>321415</td>\n",
       "      <td>6575</td>\n",
       "      <td>2005-06-06</td>\n",
       "    </tr>\n",
       "    <tr>\n",
       "      <th>2005-06-07</th>\n",
       "      <td>852.19</td>\n",
       "      <td>852.19</td>\n",
       "      <td>833.70</td>\n",
       "      <td>852.19</td>\n",
       "      <td>564475</td>\n",
       "      <td>6542</td>\n",
       "      <td>2005-06-07</td>\n",
       "    </tr>\n",
       "    <tr>\n",
       "      <th>2005-06-08</th>\n",
       "      <td>832.52</td>\n",
       "      <td>848.29</td>\n",
       "      <td>819.37</td>\n",
       "      <td>848.29</td>\n",
       "      <td>194668</td>\n",
       "      <td>6512</td>\n",
       "      <td>2005-06-08</td>\n",
       "    </tr>\n",
       "    <tr>\n",
       "      <th>2005-06-11</th>\n",
       "      <td>836.30</td>\n",
       "      <td>846.72</td>\n",
       "      <td>807.64</td>\n",
       "      <td>836.43</td>\n",
       "      <td>561611</td>\n",
       "      <td>6421</td>\n",
       "      <td>2005-06-11</td>\n",
       "    </tr>\n",
       "  </tbody>\n",
       "</table>\n",
       "</div>"
      ],
      "text/plain": [
       "              Open    High     Low   Close     Vol  Openint       Date\n",
       "Date                                                                  \n",
       "2005-06-01  852.58  859.75  836.30  857.93  692774     6586 2005-06-01\n",
       "2005-06-06  856.88  860.14  840.73  856.49  321415     6575 2005-06-06\n",
       "2005-06-07  852.19  852.19  833.70  852.19  564475     6542 2005-06-07\n",
       "2005-06-08  832.52  848.29  819.37  848.29  194668     6512 2005-06-08\n",
       "2005-06-11  836.30  846.72  807.64  836.43  561611     6421 2005-06-11"
      ]
     },
     "execution_count": 35,
     "metadata": {},
     "output_type": "execute_result"
    }
   ],
   "source": [
    "cfars.head()"
   ]
  },
  {
   "cell_type": "code",
   "execution_count": 36,
   "metadata": {
    "colab": {
     "base_uri": "https://localhost:8080/"
    },
    "id": "b8dJMwaSXbeZ",
    "outputId": "9ea16d75-eb2c-4144-8168-05df9f553f49"
   },
   "outputs": [
    {
     "name": "stderr",
     "output_type": "stream",
     "text": [
      "C:\\ProgramData\\Anaconda3\\lib\\site-packages\\pandas\\core\\frame.py:4163: SettingWithCopyWarning: \n",
      "A value is trying to be set on a copy of a slice from a DataFrame\n",
      "\n",
      "See the caveats in the documentation: https://pandas.pydata.org/pandas-docs/stable/user_guide/indexing.html#returning-a-view-versus-a-copy\n",
      "  return super().drop(\n"
     ]
    }
   ],
   "source": [
    "cfars.drop(\"Date\",axis=1,inplace=True)"
   ]
  },
  {
   "cell_type": "code",
   "execution_count": 37,
   "metadata": {
    "colab": {
     "base_uri": "https://localhost:8080/",
     "height": 238
    },
    "id": "zquaKw7jXcGT",
    "outputId": "1b0878b2-9ab8-426d-e2a3-b3aff51c2199"
   },
   "outputs": [
    {
     "data": {
      "text/html": [
       "<div>\n",
       "<style scoped>\n",
       "    .dataframe tbody tr th:only-of-type {\n",
       "        vertical-align: middle;\n",
       "    }\n",
       "\n",
       "    .dataframe tbody tr th {\n",
       "        vertical-align: top;\n",
       "    }\n",
       "\n",
       "    .dataframe thead th {\n",
       "        text-align: right;\n",
       "    }\n",
       "</style>\n",
       "<table border=\"1\" class=\"dataframe\">\n",
       "  <thead>\n",
       "    <tr style=\"text-align: right;\">\n",
       "      <th></th>\n",
       "      <th>Open</th>\n",
       "      <th>High</th>\n",
       "      <th>Low</th>\n",
       "      <th>Close</th>\n",
       "      <th>Vol</th>\n",
       "      <th>Openint</th>\n",
       "    </tr>\n",
       "    <tr>\n",
       "      <th>Date</th>\n",
       "      <th></th>\n",
       "      <th></th>\n",
       "      <th></th>\n",
       "      <th></th>\n",
       "      <th></th>\n",
       "      <th></th>\n",
       "    </tr>\n",
       "  </thead>\n",
       "  <tbody>\n",
       "    <tr>\n",
       "      <th>2005-06-01</th>\n",
       "      <td>852.58</td>\n",
       "      <td>859.75</td>\n",
       "      <td>836.30</td>\n",
       "      <td>857.93</td>\n",
       "      <td>692774</td>\n",
       "      <td>6586</td>\n",
       "    </tr>\n",
       "    <tr>\n",
       "      <th>2005-06-06</th>\n",
       "      <td>856.88</td>\n",
       "      <td>860.14</td>\n",
       "      <td>840.73</td>\n",
       "      <td>856.49</td>\n",
       "      <td>321415</td>\n",
       "      <td>6575</td>\n",
       "    </tr>\n",
       "    <tr>\n",
       "      <th>2005-06-07</th>\n",
       "      <td>852.19</td>\n",
       "      <td>852.19</td>\n",
       "      <td>833.70</td>\n",
       "      <td>852.19</td>\n",
       "      <td>564475</td>\n",
       "      <td>6542</td>\n",
       "    </tr>\n",
       "    <tr>\n",
       "      <th>2005-06-08</th>\n",
       "      <td>832.52</td>\n",
       "      <td>848.29</td>\n",
       "      <td>819.37</td>\n",
       "      <td>848.29</td>\n",
       "      <td>194668</td>\n",
       "      <td>6512</td>\n",
       "    </tr>\n",
       "    <tr>\n",
       "      <th>2005-06-11</th>\n",
       "      <td>836.30</td>\n",
       "      <td>846.72</td>\n",
       "      <td>807.64</td>\n",
       "      <td>836.43</td>\n",
       "      <td>561611</td>\n",
       "      <td>6421</td>\n",
       "    </tr>\n",
       "  </tbody>\n",
       "</table>\n",
       "</div>"
      ],
      "text/plain": [
       "              Open    High     Low   Close     Vol  Openint\n",
       "Date                                                       \n",
       "2005-06-01  852.58  859.75  836.30  857.93  692774     6586\n",
       "2005-06-06  856.88  860.14  840.73  856.49  321415     6575\n",
       "2005-06-07  852.19  852.19  833.70  852.19  564475     6542\n",
       "2005-06-08  832.52  848.29  819.37  848.29  194668     6512\n",
       "2005-06-11  836.30  846.72  807.64  836.43  561611     6421"
      ]
     },
     "execution_count": 37,
     "metadata": {},
     "output_type": "execute_result"
    }
   ],
   "source": [
    "cfars.head()"
   ]
  },
  {
   "cell_type": "code",
   "execution_count": 38,
   "metadata": {
    "colab": {
     "base_uri": "https://localhost:8080/",
     "height": 352
    },
    "id": "xa3jIvD3Bxjk",
    "outputId": "be0d6188-28ea-4fbc-f504-22110df36cae"
   },
   "outputs": [
    {
     "data": {
      "text/plain": [
       "Text(0, 0.5, 'Open')"
      ]
     },
     "execution_count": 38,
     "metadata": {},
     "output_type": "execute_result"
    },
    {
     "data": {
      "image/png": "[encoded data removed]",
      "text/plain": [
       "<Figure size 792x360 with 1 Axes>"
      ]
     },
     "metadata": {
      "needs_background": "light"
     },
     "output_type": "display_data"
    }
   ],
   "source": [
    "plt.figure(figsize=(11,5))\n",
    "cfars.Open.plot()\n",
    "plt.title(\"open value for CEFAAr\")\n",
    "plt.ylabel(\"Open\")"
   ]
  },
  {
   "cell_type": "code",
   "execution_count": 39,
   "metadata": {
    "colab": {
     "base_uri": "https://localhost:8080/",
     "height": 450
    },
    "id": "f9cxjpEfBxnQ",
    "outputId": "34f11aca-1b23-46f8-a298-b7455df46109"
   },
   "outputs": [
    {
     "data": {
      "text/plain": [
       "<AxesSubplot:>"
      ]
     },
     "execution_count": 39,
     "metadata": {},
     "output_type": "execute_result"
    },
    {
     "data": {
      "image/png": "[encoded data removed]",
      "text/plain": [
       "<Figure size 504x504 with 2 Axes>"
      ]
     },
     "metadata": {
      "needs_background": "light"
     },
     "output_type": "display_data"
    }
   ],
   "source": [
    "plt.figure(figsize=(7,7))\n",
    "sb.heatmap(cfars.corr(),annot=True,linewidths=0.1)"
   ]
  },
  {
   "cell_type": "code",
   "execution_count": 40,
   "metadata": {
    "colab": {
     "base_uri": "https://localhost:8080/",
     "height": 336
    },
    "id": "sWoRPN9-Bxq1",
    "outputId": "c75bb9cb-4aca-4114-89d4-98ced82bcca0"
   },
   "outputs": [
    {
     "data": {
      "text/plain": [
       "<AxesSubplot:xlabel='Date'>"
      ]
     },
     "execution_count": 40,
     "metadata": {},
     "output_type": "execute_result"
    },
    {
     "data": {
      "image/png": "[encoded data removed]",
      "text/plain": [
       "<Figure size 792x360 with 1 Axes>"
      ]
     },
     "metadata": {
      "needs_background": "light"
     },
     "output_type": "display_data"
    }
   ],
   "source": [
    "plt.figure(figsize=(11,5))\n",
    "cfars.Openint.plot(c=\"r\")"
   ]
  },
  {
   "cell_type": "code",
   "execution_count": 41,
   "metadata": {
    "colab": {
     "base_uri": "https://localhost:8080/",
     "height": 347
    },
    "id": "NoWlaLjmcdSB",
    "outputId": "a4df632f-24c7-42b1-8271-c95ce39ee1d5"
   },
   "outputs": [
    {
     "data": {
      "text/plain": [
       "<AxesSubplot:xlabel='Date'>"
      ]
     },
     "execution_count": 41,
     "metadata": {},
     "output_type": "execute_result"
    },
    {
     "data": {
      "image/png": "[encoded data removed]",
      "text/plain": [
       "<Figure size 792x360 with 1 Axes>"
      ]
     },
     "metadata": {
      "needs_background": "light"
     },
     "output_type": "display_data"
    }
   ],
   "source": [
    "plt.figure(figsize=(11,5))\n",
    "cfars.Vol.plot()"
   ]
  },
  {
   "cell_type": "code",
   "execution_count": 42,
   "metadata": {
    "colab": {
     "base_uri": "https://localhost:8080/",
     "height": 286
    },
    "id": "c5YyOJ-QfD_d",
    "outputId": "98ba46f4-3d9a-4486-dd48-1351df81153b"
   },
   "outputs": [
    {
     "data": {
      "text/plain": [
       "<matplotlib.legend.Legend at 0xe3e4988>"
      ]
     },
     "execution_count": 42,
     "metadata": {},
     "output_type": "execute_result"
    },
    {
     "data": {
      "image/png": "[encoded data removed]",
      "text/plain": [
       "<Figure size 1152x288 with 1 Axes>"
      ]
     },
     "metadata": {
      "needs_background": "light"
     },
     "output_type": "display_data"
    }
   ],
   "source": [
    "cfars[\"High\"][:'2016'].plot(figsize=(16,4),legend=True)\n",
    "cfars[\"High\"]['2017':].plot(figsize=(16,4),legend=True)\n",
    "plt.legend(['High Before 2017','High From 2017 onwards)'])"
   ]
  },
  {
   "cell_type": "code",
   "execution_count": 43,
   "metadata": {
    "id": "FjENHOmbc4Iy"
   },
   "outputs": [],
   "source": [
    " y,x=cfars.High,cfars.drop(\"High\",axis=1)\n",
    " "
   ]
  },
  {
   "cell_type": "code",
   "execution_count": 44,
   "metadata": {
    "id": "hcWVw3AJef7x"
   },
   "outputs": [],
   "source": [
    "ytrain=np.array(y[:'2017'])\n",
    "ytest=np.array(y[\"2018\":])\n",
    "xtrain=np.array(x[:\"2017\"])\n",
    "xtest=np.array(x[\"2018\":])"
   ]
  },
  {
   "cell_type": "code",
   "execution_count": 45,
   "metadata": {
    "id": "nlr_rl0SHrl8"
   },
   "outputs": [],
   "source": [
    "def plot_model(test,pred):\n",
    "    plt.plot(test, color='red',label='cfars Stock Price')\n",
    "    plt.plot(pred, color='blue',label='pred cfars stock Price')\n",
    "    plt.title('cfars Prediction')\n",
    "    plt.xlabel('Time')\n",
    "    plt.ylabel('cfars')\n",
    "    plt.legend()\n",
    "    plt.show()"
   ]
  },
  {
   "cell_type": "code",
   "execution_count": 46,
   "metadata": {
    "id": "ihWQR0uZtaCr"
   },
   "outputs": [
    {
     "name": "stderr",
     "output_type": "stream",
     "text": [
      "C:\\ProgramData\\Anaconda3\\lib\\site-packages\\sklearn\\linear_model\\_coordinate_descent.py:529: ConvergenceWarning: Objective did not converge. You might want to increase the number of iterations. Duality gap: 204578.54268692603, tolerance: 65845.07532236805\n",
      "  model = cd_fast.enet_coordinate_descent(\n"
     ]
    }
   ],
   "source": [
    "lr=LinearRegression()\n",
    "lr.fit(xtrain,ytrain)\n",
    "ypred_lr=lr.predict(xtest)\n",
    "\n",
    "ridge=Ridge(alpha=5)\n",
    "ridge.fit(xtrain,ytrain)\n",
    "ypred_ridge=ridge.predict(xtest)\n",
    "\n",
    "lasso=Lasso(alpha=5)\n",
    "lasso.fit(xtrain,ytrain)\n",
    "ypred_lasso=ridge.predict(xtest)\n",
    "\n",
    "dtr=DecisionTreeRegressor(criterion='mse', splitter='best', max_depth=7)\n",
    "dtr.fit(xtrain,ytrain)\n",
    "ypred_dtr=dtr.predict(xtest)"
   ]
  },
  {
   "cell_type": "code",
   "execution_count": 47,
   "metadata": {
    "colab": {
     "base_uri": "https://localhost:8080/"
    },
    "id": "dKaPM8xgEMrl",
    "outputId": "918e6df9-bca3-4461-9295-82e0fd7c954c"
   },
   "outputs": [
    {
     "name": "stdout",
     "output_type": "stream",
     "text": [
      "score train is  0.9993411666982412 score test is  0.9993146826601816\n",
      "score train is  0.9993411666981822 score test is  0.9993146846967557\n",
      "score train is  0.9992895708889384 score test is  0.9993232517320307\n",
      "score train is  0.9994952690969162 score test is  -0.05685202620090246\n"
     ]
    }
   ],
   "source": [
    "list_model=[lr,ridge,lasso,dtr]\n",
    "for model in list_model:\n",
    "    score_train=model.score(xtrain,ytrain)\n",
    "    score_test=model.score(xtest,ytest)\n",
    "    print(\"score train is \",score_train,\"score test is \",score_test)"
   ]
  },
  {
   "cell_type": "code",
   "execution_count": 48,
   "metadata": {
    "colab": {
     "base_uri": "https://localhost:8080/",
     "height": 350
    },
    "id": "kON3gtV_Id3y",
    "outputId": "d21ad52c-75c4-41a3-dda6-511017a8948c"
   },
   "outputs": [
    {
     "data": {
      "image/png": "[encoded data removed]",
      "text/plain": [
       "<Figure size 792x360 with 1 Axes>"
      ]
     },
     "metadata": {
      "needs_background": "light"
     },
     "output_type": "display_data"
    }
   ],
   "source": [
    "plt.figure(figsize=(11,5))\n",
    "plot_model(ytest.reshape(-1,1),ypred_lr.reshape(-1,1))"
   ]
  },
  {
   "cell_type": "code",
   "execution_count": 49,
   "metadata": {
    "colab": {
     "base_uri": "https://localhost:8080/",
     "height": 350
    },
    "id": "rQ8IKjY-KLoj",
    "outputId": "8b72a504-2648-4b71-d0c3-4487379b91ac"
   },
   "outputs": [
    {
     "data": {
      "image/png": "[encoded data removed]",
      "text/plain": [
       "<Figure size 792x360 with 1 Axes>"
      ]
     },
     "metadata": {
      "needs_background": "light"
     },
     "output_type": "display_data"
    }
   ],
   "source": [
    "plt.figure(figsize=(11,5))\n",
    "plot_model(ytest.reshape(-1,1),ypred_ridge.reshape(-1,1))"
   ]
  },
  {
   "cell_type": "code",
   "execution_count": 50,
   "metadata": {
    "colab": {
     "base_uri": "https://localhost:8080/",
     "height": 350
    },
    "id": "sBkdzKuiKN8j",
    "outputId": "79c91dcf-7a74-4bfd-d979-8c2f8884a1f7"
   },
   "outputs": [
    {
     "data": {
      "image/png": "[encoded data removed]",
      "text/plain": [
       "<Figure size 792x360 with 1 Axes>"
      ]
     },
     "metadata": {
      "needs_background": "light"
     },
     "output_type": "display_data"
    }
   ],
   "source": [
    "plt.figure(figsize=(11,5))\n",
    "plot_model(ytest.reshape(-1,1),ypred_lasso.reshape(-1,1))"
   ]
  },
  {
   "cell_type": "code",
   "execution_count": 51,
   "metadata": {
    "colab": {
     "base_uri": "https://localhost:8080/",
     "height": 350
    },
    "id": "fSezcCEYKSro",
    "outputId": "80d94c51-be7c-4079-a748-e32313e7a5c9"
   },
   "outputs": [
    {
     "data": {
      "image/png": "[encoded data removed]",
      "text/plain": [
       "<Figure size 792x360 with 1 Axes>"
      ]
     },
     "metadata": {
      "needs_background": "light"
     },
     "output_type": "display_data"
    }
   ],
   "source": [
    "plt.figure(figsize=(11,5))\n",
    "plot_model(ytest.reshape(-1,1),ypred_dtr.reshape(-1,1))"
   ]
  },
  {
   "cell_type": "code",
   "execution_count": 83,
   "metadata": {
    "id": "wK0XcMMkupsV"
   },
   "outputs": [],
   "source": [
    "xtrain= np.reshape(xtrain, (xtrain.shape[0],xtrain.shape[1],1))\n",
    "xtest=np.reshape(xtest,(xtest.shape[0],xtest.shape[1],1))"
   ]
  },
  {
   "cell_type": "code",
   "execution_count": 57,
   "metadata": {
    "id": "ZQHbEI0I7Ip_"
   },
   "outputs": [],
   "source": [
    "regressor = Sequential()\n",
    "regressor.add(LSTM(units=50, return_sequences=True, input_shape=(xtrain.shape[1],1)))\n",
    "regressor.add(Dropout(0.2))\n",
    "regressor.add(LSTM(units=50, return_sequences=True))\n",
    "regressor.add(Dropout(0.2))\n",
    "regressor.add(LSTM(units=50, return_sequences=True))\n",
    "regressor.add(Dropout(0.2))\n",
    "regressor.add(LSTM(units=50))\n",
    "regressor.add(Dropout(0.2))\n",
    "regressor.add(Dense(units=1))\n",
    "\n",
    "\n",
    "\n",
    "\n",
    "regressor.compile(optimizer='rmsprop',loss='mean_squared_error',metrics=[\"\"])\n"
   ]
  },
  {
   "cell_type": "code",
   "execution_count": 58,
   "metadata": {
    "colab": {
     "base_uri": "https://localhost:8080/"
    },
    "id": "7nhG9imrnxxl",
    "outputId": "c27080d0-c4ac-4e3d-cc01-f9206003c022"
   },
   "outputs": [
    {
     "name": "stdout",
     "output_type": "stream",
     "text": [
      "Epoch 1/50\n",
      "225/225 [==============================] - 11s 16ms/step - loss: 940170.3750 - mean_squared_error: 940170.3750\n",
      "Epoch 2/50\n",
      "225/225 [==============================] - 4s 16ms/step - loss: 921129.0000 - mean_squared_error: 921129.0000\n",
      "Epoch 3/50\n",
      "225/225 [==============================] - 3s 15ms/step - loss: 902884.1875 - mean_squared_error: 902884.1875\n",
      "Epoch 4/50\n",
      "225/225 [==============================] - 3s 14ms/step - loss: 884910.4375 - mean_squared_error: 884910.4375\n",
      "Epoch 5/50\n",
      "225/225 [==============================] - 3s 15ms/step - loss: 866986.6875 - mean_squared_error: 866986.6875\n",
      "Epoch 6/50\n",
      "225/225 [==============================] - 4s 16ms/step - loss: 849908.0625 - mean_squared_error: 849908.0625\n",
      "Epoch 7/50\n",
      "225/225 [==============================] - 3s 15ms/step - loss: 832854.0000 - mean_squared_error: 832854.0000\n",
      "Epoch 8/50\n",
      "225/225 [==============================] - 3s 15ms/step - loss: 815366.8125 - mean_squared_error: 815366.8125\n",
      "Epoch 9/50\n",
      "225/225 [==============================] - 3s 14ms/step - loss: 799166.6875 - mean_squared_error: 799166.6875\n",
      "Epoch 10/50\n",
      "225/225 [==============================] - 3s 15ms/step - loss: 782624.5625 - mean_squared_error: 782624.5625\n",
      "Epoch 11/50\n",
      "225/225 [==============================] - 3s 14ms/step - loss: 766705.7500 - mean_squared_error: 766705.7500\n",
      "Epoch 12/50\n",
      "225/225 [==============================] - 4s 16ms/step - loss: 750599.8750 - mean_squared_error: 750599.9375\n",
      "Epoch 13/50\n",
      "225/225 [==============================] - 3s 15ms/step - loss: 734736.2500 - mean_squared_error: 734736.2500\n",
      "Epoch 14/50\n",
      "225/225 [==============================] - 3s 15ms/step - loss: 720123.6250 - mean_squared_error: 720123.6250\n",
      "Epoch 15/50\n",
      "225/225 [==============================] - 4s 16ms/step - loss: 704163.8750 - mean_squared_error: 704163.8750\n",
      "Epoch 16/50\n",
      "225/225 [==============================] - 4s 16ms/step - loss: 690078.5625 - mean_squared_error: 690078.5625\n",
      "Epoch 17/50\n",
      "225/225 [==============================] - 3s 15ms/step - loss: 674979.8125 - mean_squared_error: 674979.8125\n",
      "Epoch 18/50\n",
      "225/225 [==============================] - 4s 16ms/step - loss: 660812.2500 - mean_squared_error: 660812.2500\n",
      "Epoch 19/50\n",
      "225/225 [==============================] - 3s 15ms/step - loss: 646190.4375 - mean_squared_error: 646190.4375\n",
      "Epoch 20/50\n",
      "225/225 [==============================] - 4s 16ms/step - loss: 633431.0625 - mean_squared_error: 633431.0625\n",
      "Epoch 21/50\n",
      "225/225 [==============================] - 4s 16ms/step - loss: 619763.5625 - mean_squared_error: 619763.5625\n",
      "Epoch 22/50\n",
      "225/225 [==============================] - 3s 15ms/step - loss: 606042.8125 - mean_squared_error: 606042.8125\n",
      "Epoch 23/50\n",
      "225/225 [==============================] - 4s 17ms/step - loss: 592653.6875 - mean_squared_error: 592653.6875\n",
      "Epoch 24/50\n",
      "225/225 [==============================] - 4s 16ms/step - loss: 580029.6875 - mean_squared_error: 580029.6875\n",
      "Epoch 25/50\n",
      "225/225 [==============================] - 3s 15ms/step - loss: 568347.5000 - mean_squared_error: 568347.5000\n",
      "Epoch 26/50\n",
      "225/225 [==============================] - 3s 14ms/step - loss: 555104.3125 - mean_squared_error: 555104.3125\n",
      "Epoch 27/50\n",
      "225/225 [==============================] - 4s 16ms/step - loss: 543472.6875 - mean_squared_error: 543472.6875\n",
      "Epoch 28/50\n",
      "225/225 [==============================] - 4s 16ms/step - loss: 530514.1250 - mean_squared_error: 530514.1250\n",
      "Epoch 29/50\n",
      "225/225 [==============================] - 3s 15ms/step - loss: 520558.2500 - mean_squared_error: 520558.2500\n",
      "Epoch 30/50\n",
      "225/225 [==============================] - 3s 15ms/step - loss: 508770.3438 - mean_squared_error: 508770.3438\n",
      "Epoch 31/50\n",
      "225/225 [==============================] - 4s 18ms/step - loss: 498748.6875 - mean_squared_error: 498748.6875\n",
      "Epoch 32/50\n",
      "225/225 [==============================] - 4s 16ms/step - loss: 488565.1250 - mean_squared_error: 488565.1250\n",
      "Epoch 33/50\n",
      "225/225 [==============================] - 3s 15ms/step - loss: 475694.0312 - mean_squared_error: 475694.0312\n",
      "Epoch 34/50\n",
      "225/225 [==============================] - 3s 15ms/step - loss: 467018.1875 - mean_squared_error: 467018.1875\n",
      "Epoch 35/50\n",
      "225/225 [==============================] - 4s 16ms/step - loss: 456630.6250 - mean_squared_error: 456630.6250\n",
      "Epoch 36/50\n",
      "225/225 [==============================] - 4s 16ms/step - loss: 446774.9062 - mean_squared_error: 446774.8750\n",
      "Epoch 37/50\n",
      "225/225 [==============================] - 3s 15ms/step - loss: 436424.6250 - mean_squared_error: 436424.6250\n",
      "Epoch 38/50\n",
      "225/225 [==============================] - 3s 15ms/step - loss: 429154.3438 - mean_squared_error: 429154.3438\n",
      "Epoch 39/50\n",
      "225/225 [==============================] - 3s 14ms/step - loss: 419073.0000 - mean_squared_error: 419073.0000\n",
      "Epoch 40/50\n",
      "225/225 [==============================] - 4s 17ms/step - loss: 410412.5625 - mean_squared_error: 410412.5625\n",
      "Epoch 41/50\n",
      "225/225 [==============================] - 4s 16ms/step - loss: 402622.4062 - mean_squared_error: 402622.4062\n",
      "Epoch 42/50\n",
      "225/225 [==============================] - 4s 17ms/step - loss: 393776.8750 - mean_squared_error: 393776.8750\n",
      "Epoch 43/50\n",
      "225/225 [==============================] - 4s 17ms/step - loss: 384414.5312 - mean_squared_error: 384414.5625\n",
      "Epoch 44/50\n",
      "225/225 [==============================] - 4s 17ms/step - loss: 378349.4062 - mean_squared_error: 378349.4062\n",
      "Epoch 45/50\n",
      "225/225 [==============================] - 4s 17ms/step - loss: 370294.3125 - mean_squared_error: 370294.3125\n",
      "Epoch 46/50\n",
      "225/225 [==============================] - 4s 16ms/step - loss: 364630.5312 - mean_squared_error: 364630.5312\n",
      "Epoch 47/50\n",
      "225/225 [==============================] - 4s 16ms/step - loss: 356846.3125 - mean_squared_error: 356846.3125\n",
      "Epoch 48/50\n",
      "225/225 [==============================] - 4s 17ms/step - loss: 351547.8125 - mean_squared_error: 351547.8125\n",
      "Epoch 49/50\n",
      "225/225 [==============================] - 4s 16ms/step - loss: 344364.2500 - mean_squared_error: 344364.2500\n",
      "Epoch 50/50\n",
      "225/225 [==============================] - 4s 16ms/step - loss: 337966.0625 - mean_squared_error: 337966.0625\n"
     ]
    },
    {
     "data": {
      "text/plain": [
       "<keras.callbacks.History at 0x7f7459abb790>"
      ]
     },
     "execution_count": 58,
     "metadata": {},
     "output_type": "execute_result"
    }
   ],
   "source": [
    "regressor.fit(xtrain,ytrain,batch_size=12,epochs=50)"
   ]
  },
  {
   "cell_type": "code",
   "execution_count": 85,
   "metadata": {
    "colab": {
     "base_uri": "https://localhost:8080/",
     "height": 350
    },
    "id": "hdvqlCLbKowE",
    "outputId": "7c3595fc-7c5e-4ac9-83a1-8c86eff04e24"
   },
   "outputs": [
    {
     "data": {
      "image/png": "[encoded data removed]",
      "text/plain": [
       "<Figure size 792x360 with 1 Axes>"
      ]
     },
     "metadata": {
      "needs_background": "light"
     },
     "output_type": "display_data"
    }
   ],
   "source": [
    "predicted_stock_price = regressor.predict(xtest)\n",
    "plt.figure(figsize=(11,5))\n",
    "plot_model(ytest,predicted_stock_price)"
   ]
  },
  {
   "cell_type": "code",
   "execution_count": 60,
   "metadata": {
    "id": "wG5QvgwXEMvM"
   },
   "outputs": [],
   "source": [
    "regressor2 = Sequential()\n",
    "regressor2.add(LSTM(units=50, return_sequences=True, input_shape=(xtrain.shape[1],1)))\n",
    "regressor2.add(Dropout(0.2))\n",
    "regressor2.add(LSTM(units=50, return_sequences=True))\n",
    "regressor2.add(Dropout(0.2))\n",
    "regressor2.add(LSTM(units=50, return_sequences=True))\n",
    "regressor2.add(Dropout(0.2))\n",
    "regressor2.add(LSTM(units=50, return_sequences=True))\n",
    "regressor2.add(Dropout(0.2))\n",
    "regressor2.add(LSTM(units=50))\n",
    "regressor2.add(Dropout(0.2))\n",
    "regressor2.add(Dense(units=6,))\n",
    "regressor2.add(Dense(units=3,))\n",
    "regressor2.add(Dense(units=1))\n",
    "\n",
    "regressor2.compile(optimizer='rmsprop',loss='mean_squared_error',metrics=\"mean_absolute_error\")\n"
   ]
  },
  {
   "cell_type": "code",
   "execution_count": 61,
   "metadata": {
    "colab": {
     "base_uri": "https://localhost:8080/"
    },
    "id": "MnbcL8dPEM0z",
    "outputId": "e7d4e1ec-0751-4f2f-89c2-d3e9fa340ba2"
   },
   "outputs": [
    {
     "name": "stdout",
     "output_type": "stream",
     "text": [
      "Epoch 1/50\n",
      "225/225 [==============================] - 15s 22ms/step - loss: 870323.3125 - mean_absolute_error: 790.3469\n",
      "Epoch 2/50\n",
      "225/225 [==============================] - 5s 22ms/step - loss: 623758.3125 - mean_absolute_error: 610.1857\n",
      "Epoch 3/50\n",
      "225/225 [==============================] - 5s 22ms/step - loss: 339623.8438 - mean_absolute_error: 414.6106\n",
      "Epoch 4/50\n",
      "225/225 [==============================] - 5s 21ms/step - loss: 248446.1250 - mean_absolute_error: 416.0552\n",
      "Epoch 5/50\n",
      "225/225 [==============================] - 4s 19ms/step - loss: 247703.2031 - mean_absolute_error: 421.4187\n",
      "Epoch 6/50\n",
      "225/225 [==============================] - 4s 19ms/step - loss: 247643.1406 - mean_absolute_error: 423.0771\n",
      "Epoch 7/50\n",
      "225/225 [==============================] - 5s 22ms/step - loss: 248472.5312 - mean_absolute_error: 423.6933\n",
      "Epoch 8/50\n",
      "225/225 [==============================] - 5s 24ms/step - loss: 248333.2812 - mean_absolute_error: 423.7362\n",
      "Epoch 9/50\n",
      "225/225 [==============================] - 5s 21ms/step - loss: 247399.6094 - mean_absolute_error: 421.7864\n",
      "Epoch 10/50\n",
      "225/225 [==============================] - 4s 19ms/step - loss: 248082.6250 - mean_absolute_error: 421.5415\n",
      "Epoch 11/50\n",
      "225/225 [==============================] - 6s 25ms/step - loss: 246818.1406 - mean_absolute_error: 421.7748\n",
      "Epoch 12/50\n",
      "225/225 [==============================] - 5s 22ms/step - loss: 248892.2031 - mean_absolute_error: 423.3319\n",
      "Epoch 13/50\n",
      "225/225 [==============================] - 4s 19ms/step - loss: 248872.5312 - mean_absolute_error: 422.9093\n",
      "Epoch 14/50\n",
      "225/225 [==============================] - 5s 22ms/step - loss: 248676.7812 - mean_absolute_error: 424.0989\n",
      "Epoch 15/50\n",
      "225/225 [==============================] - 5s 21ms/step - loss: 249547.8594 - mean_absolute_error: 423.4587\n",
      "Epoch 16/50\n",
      "225/225 [==============================] - 5s 21ms/step - loss: 247683.4688 - mean_absolute_error: 421.8481\n",
      "Epoch 17/50\n",
      "225/225 [==============================] - 5s 20ms/step - loss: 246871.0625 - mean_absolute_error: 422.5042\n",
      "Epoch 18/50\n",
      "225/225 [==============================] - 5s 20ms/step - loss: 247808.3750 - mean_absolute_error: 422.9479\n",
      "Epoch 19/50\n",
      "225/225 [==============================] - 5s 21ms/step - loss: 247663.3125 - mean_absolute_error: 421.8444\n",
      "Epoch 20/50\n",
      "225/225 [==============================] - 5s 21ms/step - loss: 247335.5312 - mean_absolute_error: 423.6735\n",
      "Epoch 21/50\n",
      "225/225 [==============================] - 4s 19ms/step - loss: 247405.6406 - mean_absolute_error: 421.7830\n",
      "Epoch 22/50\n",
      "225/225 [==============================] - 4s 18ms/step - loss: 247875.1250 - mean_absolute_error: 422.1530\n",
      "Epoch 23/50\n",
      "225/225 [==============================] - 5s 20ms/step - loss: 249023.2188 - mean_absolute_error: 424.5841\n",
      "Epoch 24/50\n",
      "225/225 [==============================] - 5s 21ms/step - loss: 248316.4688 - mean_absolute_error: 421.3467\n",
      "Epoch 25/50\n",
      "225/225 [==============================] - 5s 20ms/step - loss: 247251.6250 - mean_absolute_error: 422.1536\n",
      "Epoch 26/50\n",
      "225/225 [==============================] - 5s 21ms/step - loss: 248628.5312 - mean_absolute_error: 421.8914\n",
      "Epoch 27/50\n",
      "225/225 [==============================] - 5s 22ms/step - loss: 251275.1250 - mean_absolute_error: 424.6249\n",
      "Epoch 28/50\n",
      "225/225 [==============================] - 5s 21ms/step - loss: 248753.6719 - mean_absolute_error: 423.0374\n",
      "Epoch 29/50\n",
      "225/225 [==============================] - 4s 19ms/step - loss: 247722.2344 - mean_absolute_error: 421.8517\n",
      "Epoch 30/50\n",
      "225/225 [==============================] - 5s 21ms/step - loss: 216550.4375 - mean_absolute_error: 372.4775\n",
      "Epoch 31/50\n",
      "225/225 [==============================] - 4s 20ms/step - loss: 97364.0781 - mean_absolute_error: 205.3022\n",
      "Epoch 32/50\n",
      "225/225 [==============================] - 4s 19ms/step - loss: 67140.8750 - mean_absolute_error: 174.2956\n",
      "Epoch 33/50\n",
      "225/225 [==============================] - 4s 19ms/step - loss: 58009.8359 - mean_absolute_error: 164.3401\n",
      "Epoch 34/50\n",
      "225/225 [==============================] - 5s 21ms/step - loss: 54030.8789 - mean_absolute_error: 157.3355\n",
      "Epoch 35/50\n",
      "225/225 [==============================] - 5s 21ms/step - loss: 49078.9102 - mean_absolute_error: 148.6553\n",
      "Epoch 36/50\n",
      "225/225 [==============================] - 4s 20ms/step - loss: 47262.0547 - mean_absolute_error: 149.9563\n",
      "Epoch 37/50\n",
      "225/225 [==============================] - 5s 20ms/step - loss: 42570.1758 - mean_absolute_error: 140.2892\n",
      "Epoch 38/50\n",
      "225/225 [==============================] - 5s 21ms/step - loss: 39176.8438 - mean_absolute_error: 138.0601\n",
      "Epoch 39/50\n",
      "225/225 [==============================] - 5s 21ms/step - loss: 41282.6211 - mean_absolute_error: 140.2544\n",
      "Epoch 40/50\n",
      "225/225 [==============================] - 5s 22ms/step - loss: 37311.9570 - mean_absolute_error: 135.5027\n",
      "Epoch 41/50\n",
      "225/225 [==============================] - 5s 21ms/step - loss: 36626.1445 - mean_absolute_error: 132.4396\n",
      "Epoch 42/50\n",
      "225/225 [==============================] - 5s 21ms/step - loss: 38353.0156 - mean_absolute_error: 133.3815\n",
      "Epoch 43/50\n",
      "225/225 [==============================] - 5s 20ms/step - loss: 34260.2383 - mean_absolute_error: 126.2628\n",
      "Epoch 44/50\n",
      "225/225 [==============================] - 5s 21ms/step - loss: 32933.0820 - mean_absolute_error: 124.7598\n",
      "Epoch 45/50\n",
      "225/225 [==============================] - 4s 19ms/step - loss: 30776.5898 - mean_absolute_error: 121.5455\n",
      "Epoch 46/50\n",
      "225/225 [==============================] - 5s 21ms/step - loss: 30684.4375 - mean_absolute_error: 119.4994\n",
      "Epoch 47/50\n",
      "225/225 [==============================] - 5s 22ms/step - loss: 29828.6016 - mean_absolute_error: 118.1973\n",
      "Epoch 48/50\n",
      "225/225 [==============================] - 5s 21ms/step - loss: 30946.4707 - mean_absolute_error: 119.6575\n",
      "Epoch 49/50\n",
      "225/225 [==============================] - 5s 20ms/step - loss: 30035.1113 - mean_absolute_error: 115.6812\n",
      "Epoch 50/50\n",
      "225/225 [==============================] - 5s 22ms/step - loss: 28047.4453 - mean_absolute_error: 113.9865\n"
     ]
    },
    {
     "data": {
      "text/plain": [
       "<keras.callbacks.History at 0x7f7459981310>"
      ]
     },
     "execution_count": 61,
     "metadata": {},
     "output_type": "execute_result"
    }
   ],
   "source": [
    "regressor2.fit(xtrain,ytrain,batch_size=12,epochs=50)"
   ]
  },
  {
   "cell_type": "code",
   "execution_count": 86,
   "metadata": {
    "colab": {
     "base_uri": "https://localhost:8080/",
     "height": 350
    },
    "id": "DTa7z0vbLLIO",
    "outputId": "75297442-548a-4e61-8686-87b39dd1c976"
   },
   "outputs": [
    {
     "data": {
      "image/png": "[encoded data removed]",
      "text/plain": [
       "<Figure size 792x360 with 1 Axes>"
      ]
     },
     "metadata": {
      "needs_background": "light"
     },
     "output_type": "display_data"
    }
   ],
   "source": [
    "predicted_stock_price2 = regressor2.predict(xtest)\n",
    "plt.figure(figsize=(11,5))\n",
    "plot_model(ytest,predicted_stock_price)"
   ]
  },
  {
   "cell_type": "code",
   "execution_count": null,
   "metadata": {
    "id": "PfdRRsYrLPSe"
   },
   "outputs": [],
   "source": []
  }
 ],
 "metadata": {
  "colab": {
   "collapsed_sections": [],
   "name": "lstm_stock_v2.ipynb",
   "provenance": []
  },
  "kernelspec": {
   "display_name": "Python 3",
   "language": "python",
   "name": "python3"
  },
  "language_info": {
   "codemirror_mode": {
    "name": "ipython",
    "version": 3
   },
   "file_extension": ".py",
   "mimetype": "text/x-python",
   "name": "python",
   "nbconvert_exporter": "python",
   "pygments_lexer": "ipython3",
   "version": "3.8.5"
  }
 },
 "nbformat": 4,
 "nbformat_minor": 1
}
